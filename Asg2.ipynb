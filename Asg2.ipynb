{
  "nbformat": 4,
  "nbformat_minor": 0,
  "metadata": {
    "colab": {
      "provenance": [],
      "include_colab_link": true
    },
    "kernelspec": {
      "name": "python3",
      "display_name": "Python 3"
    },
    "language_info": {
      "name": "python"
    }
  },
  "cells": [
    {
      "cell_type": "markdown",
      "metadata": {
        "id": "view-in-github",
        "colab_type": "text"
      },
      "source": [
        "<a href=\"https://colab.research.google.com/github/jeremilev/comp472-project/blob/asg2/Asg2.ipynb\" target=\"_parent\"><img src=\"https://colab.research.google.com/assets/colab-badge.svg\" alt=\"Open In Colab\"/></a>"
      ]
    },
    {
      "cell_type": "code",
      "execution_count": 1,
      "metadata": {
        "id": "UP596VYJFBl0"
      },
      "outputs": [],
      "source": [
        "import gensim.downloader as api\n",
        "from gensim.models import Word2Vec\n",
        "from gensim import similarities\n",
        "from enum import Enum\n",
        "import json\n",
        "from dataclasses import dataclass"
      ]
    },
    {
      "cell_type": "code",
      "source": [
        "GOOGLE_MODEL = \"word2vec-google-news-300\"\n",
        "\n",
        "print(api.info(GOOGLE_MODEL))\n",
        "model = api.load(GOOGLE_MODEL)"
      ],
      "metadata": {
        "colab": {
          "base_uri": "https://localhost:8080/"
        },
        "id": "dHz2ybGXFcsS",
        "outputId": "dd5faaf5-ef58-463d-bccc-aa49eee3dcd1"
      },
      "execution_count": 2,
      "outputs": [
        {
          "output_type": "stream",
          "name": "stdout",
          "text": [
            "{'num_records': 3000000, 'file_size': 1743563840, 'base_dataset': 'Google News (about 100 billion words)', 'reader_code': 'https://github.com/RaRe-Technologies/gensim-data/releases/download/word2vec-google-news-300/__init__.py', 'license': 'not found', 'parameters': {'dimension': 300}, 'description': \"Pre-trained vectors trained on a part of the Google News dataset (about 100 billion words). The model contains 300-dimensional vectors for 3 million words and phrases. The phrases were obtained using a simple data-driven approach described in 'Distributed Representations of Words and Phrases and their Compositionality' (https://code.google.com/archive/p/word2vec/).\", 'read_more': ['https://code.google.com/archive/p/word2vec/', 'https://arxiv.org/abs/1301.3781', 'https://arxiv.org/abs/1310.4546', 'https://www.microsoft.com/en-us/research/publication/linguistic-regularities-in-continuous-space-word-representations/?from=http%3A%2F%2Fresearch.microsoft.com%2Fpubs%2F189726%2Frvecs.pdf'], 'checksum': 'a5e5354d40acb95f9ec66d5977d140ef', 'file_name': 'word2vec-google-news-300.gz', 'parts': 1}\n"
          ]
        }
      ]
    },
    {
      "cell_type": "code",
      "source": [
        "class Label(Enum):\n",
        "  GUESS = \"guess\"\n",
        "  CORRECT = \"correct\"\n",
        "  WRONG = \"wrong\"\n",
        "\n",
        "@dataclass\n",
        "class Question:\n",
        "  question: str\n",
        "  answer: str\n",
        "  choices: [str]\n",
        "  label: Label = Label.GUESS\n",
        "  guessed_word: str = None"
      ],
      "metadata": {
        "id": "aHj0jJaKXcev"
      },
      "execution_count": 3,
      "outputs": []
    },
    {
      "cell_type": "code",
      "source": [
        "def get_simmilar_word(question: Question) -> Question:\n",
        "\n",
        "  try:\n",
        "    suggestions = model.most_similar_cosmul(positive=question.question)\n",
        "  except(KeyError):\n",
        "    question.guessed_word=\"\"\n",
        "    return question\n",
        "\n",
        "  for suggestion, _ in suggestions:\n",
        "    if suggestion in question.choices and question.guessed_word == None:\n",
        "      question.guessed_word = suggestion\n",
        "    if suggestion in question.choices and question.guessed_word != None:\n",
        "      if question.guessed_word == question.answer: question.label = Label.CORRECT\n",
        "      else: question.label = Label.WRONG\n",
        "\n",
        "  return question\n",
        "\n",
        "def get_simmilar_list(questions: dict) -> list[Question]:\n",
        "  for question in questions:\n",
        "    get_simmilar_word(question)\n",
        "\n",
        "  return questions"
      ],
      "metadata": {
        "id": "9Sm2j6t3IZiu"
      },
      "execution_count": 4,
      "outputs": []
    },
    {
      "cell_type": "code",
      "source": [
        "INP_FILENAME = \"/content/synonym.json\"\n",
        "OUTP_FILENAME = f\"{GOOGLE_MODEL}-details.csv\"\n",
        "EVAL_FILENAME = \"analysis.csv\"\n",
        "\n",
        "questions = []\n",
        "with open(INP_FILENAME) as f:\n",
        "  data = json.load(f)\n",
        "  for obj in data:\n",
        "    questions.append(Question(**obj))\n",
        "\n",
        "res = get_simmilar_list(questions)\n",
        "with open(OUTP_FILENAME, \"a\") as f:\n",
        "  for question in res:\n",
        "    if question.guessed_word == None:\n",
        "      question.guessed_word = \"\"\n",
        "    f.write(\",\".join([question.question,\n",
        "                      question.answer,\n",
        "                      question.guessed_word,\n",
        "                      question.label.value]))\n",
        "    f.write(\"\\n\")\n",
        "\n",
        "with open(EVAL_FILENAME, \"a\") as f:\n",
        "  length = len(model)\n",
        "  C = len([x.label == Label.CORRECT for x in res])\n",
        "  guesses = len([x.label == Label.GUESS for x in res])\n",
        "  V = len(res) - guesses\n",
        "  if V != 0:\n",
        "    accuracy = C/V\n",
        "  else: accuracy = 0\n",
        "\n",
        "  f.write(\",\".join([GOOGLE_MODEL,str(length), str(C), str(V), str(accuracy)]))\n",
        "  f.write(\"\\n\")"
      ],
      "metadata": {
        "id": "PSlW18RYUrT1"
      },
      "execution_count": 5,
      "outputs": []
    },
    {
      "cell_type": "markdown",
      "source": [
        "TASK 2: Comparison with Other Pre-Trained Models"
      ],
      "metadata": {
        "id": "p8jTbDkPVpt1"
      }
    },
    {
      "cell_type": "code",
      "source": [],
      "metadata": {
        "id": "Ew8vAYQgvzBs"
      },
      "execution_count": null,
      "outputs": []
    },
    {
      "cell_type": "markdown",
      "source": [
        "TASK 3: Training Own Models"
      ],
      "metadata": {
        "id": "jtR0ReJfVy5I"
      }
    },
    {
      "cell_type": "code",
      "source": [
        "#!pip uninstall nltk"
      ],
      "metadata": {
        "id": "ILSlR9TdXSiS"
      },
      "execution_count": 9,
      "outputs": []
    },
    {
      "cell_type": "code",
      "source": [
        "#!pip install -U nltk"
      ],
      "metadata": {
        "id": "XikAxZ-MZKsH"
      },
      "execution_count": 10,
      "outputs": []
    },
    {
      "cell_type": "code",
      "source": [
        "import nltk\n",
        "#nltk.download('gutenberg')\n",
        "nltk.download('punkt')\n",
        "#nltk.download('twitter_samples')\n",
        "#with open(\"/content/books/alice.txt\") as f:\n",
        "with open(\"/content/books/testfile.txt\") as f:\n",
        "  booktext = f.read()\n",
        "\n",
        "tokens = nltk.word_tokenize(booktext)\n",
        "tokens\n",
        "\n",
        "\n",
        "\n"
      ],
      "metadata": {
        "id": "V-a4CnSxV6mE",
        "outputId": "79a3613c-f338-45c7-b354-ae6a006520ee",
        "colab": {
          "base_uri": "https://localhost:8080/"
        }
      },
      "execution_count": 21,
      "outputs": [
        {
          "output_type": "stream",
          "name": "stderr",
          "text": [
            "[nltk_data] Downloading package punkt to /root/nltk_data...\n",
            "[nltk_data]   Unzipping tokenizers/punkt.zip.\n"
          ]
        },
        {
          "output_type": "execute_result",
          "data": {
            "text/plain": [
              "['hello', 'world', '!', 'How', 'are', 'you', 'doing', '?', 'Good-bye', '.']"
            ]
          },
          "metadata": {},
          "execution_count": 21
        }
      ]
    }
  ]
}