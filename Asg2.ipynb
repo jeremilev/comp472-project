{
  "nbformat": 4,
  "nbformat_minor": 0,
  "metadata": {
    "colab": {
      "provenance": [],
      "include_colab_link": true
    },
    "kernelspec": {
      "name": "python3",
      "display_name": "Python 3"
    },
    "language_info": {
      "name": "python"
    }
  },
  "cells": [
    {
      "cell_type": "markdown",
      "metadata": {
        "id": "view-in-github",
        "colab_type": "text"
      },
      "source": [
        "<a href=\"https://colab.research.google.com/github/jeremilev/comp472-project/blob/asg2/Asg2.ipynb\" target=\"_parent\"><img src=\"https://colab.research.google.com/assets/colab-badge.svg\" alt=\"Open In Colab\"/></a>"
      ]
    },
    {
      "cell_type": "markdown",
      "source": [
        "# TASK 1: Evaluation of word2vec-google-news-300 pre-trained model"
      ],
      "metadata": {
        "id": "AZZE8rK7UsTt"
      }
    },
    {
      "cell_type": "code",
      "execution_count": 1,
      "metadata": {
        "id": "UP596VYJFBl0"
      },
      "outputs": [],
      "source": [
        "import gensim.downloader as api\n",
        "from gensim.models import Word2Vec\n",
        "from gensim import similarities\n",
        "from enum import Enum\n",
        "import json\n",
        "from dataclasses import dataclass\n",
        "import nltk"
      ]
    },
    {
      "cell_type": "code",
      "source": [
        "GOOGLE_MODEL = \"word2vec-google-news-300\"\n",
        "\n",
        "print(api.info(GOOGLE_MODEL))\n",
        "model = api.load(GOOGLE_MODEL)"
      ],
      "metadata": {
        "colab": {
          "base_uri": "https://localhost:8080/"
        },
        "id": "dHz2ybGXFcsS",
        "outputId": "e2de6897-efc5-49ca-86ca-3c430a11dfb8"
      },
      "execution_count": 2,
      "outputs": [
        {
          "output_type": "stream",
          "name": "stdout",
          "text": [
            "{'num_records': 3000000, 'file_size': 1743563840, 'base_dataset': 'Google News (about 100 billion words)', 'reader_code': 'https://github.com/RaRe-Technologies/gensim-data/releases/download/word2vec-google-news-300/__init__.py', 'license': 'not found', 'parameters': {'dimension': 300}, 'description': \"Pre-trained vectors trained on a part of the Google News dataset (about 100 billion words). The model contains 300-dimensional vectors for 3 million words and phrases. The phrases were obtained using a simple data-driven approach described in 'Distributed Representations of Words and Phrases and their Compositionality' (https://code.google.com/archive/p/word2vec/).\", 'read_more': ['https://code.google.com/archive/p/word2vec/', 'https://arxiv.org/abs/1301.3781', 'https://arxiv.org/abs/1310.4546', 'https://www.microsoft.com/en-us/research/publication/linguistic-regularities-in-continuous-space-word-representations/?from=http%3A%2F%2Fresearch.microsoft.com%2Fpubs%2F189726%2Frvecs.pdf'], 'checksum': 'a5e5354d40acb95f9ec66d5977d140ef', 'file_name': 'word2vec-google-news-300.gz', 'parts': 1}\n",
            "[==================================================] 100.0% 1662.8/1662.8MB downloaded\n"
          ]
        }
      ]
    },
    {
      "cell_type": "code",
      "source": [
        "class Label(Enum):\n",
        "  GUESS = \"guess\"\n",
        "  CORRECT = \"correct\"\n",
        "  WRONG = \"wrong\"\n",
        "\n",
        "@dataclass\n",
        "class Question:\n",
        "  question: str\n",
        "  answer: str\n",
        "  choices: [str]\n",
        "  label: Label = Label.GUESS\n",
        "  guessed_word: str = None"
      ],
      "metadata": {
        "id": "aHj0jJaKXcev"
      },
      "execution_count": 3,
      "outputs": []
    },
    {
      "cell_type": "code",
      "source": [
        "def get_simmilar_word(question: Question) -> Question:\n",
        "\n",
        "  try:\n",
        "    suggestions = model.most_similar_cosmul(positive=question.question)\n",
        "  except(KeyError):\n",
        "    question.guessed_word=\"\"\n",
        "    return question\n",
        "\n",
        "  for suggestion, _ in suggestions:\n",
        "    if suggestion in question.choices and question.guessed_word == None:\n",
        "      question.guessed_word = suggestion\n",
        "    if suggestion in question.choices and question.guessed_word != None:\n",
        "      if question.guessed_word == question.answer: question.label = Label.CORRECT\n",
        "      else: question.label = Label.WRONG\n",
        "\n",
        "  return question\n",
        "\n",
        "def get_simmilar_list(questions: dict) -> list[Question]:\n",
        "  for question in questions:\n",
        "    get_simmilar_word(question)\n",
        "\n",
        "  return questions"
      ],
      "metadata": {
        "id": "9Sm2j6t3IZiu"
      },
      "execution_count": 4,
      "outputs": []
    },
    {
      "cell_type": "code",
      "source": [
        "# import files\n",
        "!gdown  https://drive.google.com/uc?id=1LAclVWP_FJBhysLAR0ky1wIP3RveORXO\n",
        "\n",
        "INP_FILENAME = \"synonym.json\"\n",
        "OUTP_FILENAME = f\"{GOOGLE_MODEL}-details.csv\"\n",
        "EVAL_FILENAME = \"analysis.csv\"\n",
        "\n",
        "questions = []\n",
        "with open(INP_FILENAME) as f:\n",
        "  data = json.load(f)\n",
        "  for obj in data:\n",
        "    questions.append(Question(**obj))\n",
        "\n",
        "res = get_simmilar_list(questions)\n",
        "with open(OUTP_FILENAME, \"a\") as f:\n",
        "  for question in res:\n",
        "    if question.guessed_word == None:\n",
        "      question.guessed_word = \"\"\n",
        "    f.write(\",\".join([question.question,\n",
        "                      question.answer,\n",
        "                      question.guessed_word,\n",
        "                      question.label.value]))\n",
        "    f.write(\"\\n\")\n",
        "\n",
        "with open(EVAL_FILENAME, \"a\") as f:\n",
        "  length = len(model)\n",
        "  C = len([x.label == Label.CORRECT for x in res])\n",
        "  guesses = len([x.label == Label.GUESS for x in res])\n",
        "  V = len(res) - guesses\n",
        "  if V != 0:\n",
        "    accuracy = C/V\n",
        "  else: accuracy = 0\n",
        "\n",
        "  f.write(\",\".join([GOOGLE_MODEL,str(length), str(C), str(V), str(accuracy)]))\n",
        "  f.write(\"\\n\")"
      ],
      "metadata": {
        "id": "PSlW18RYUrT1",
        "outputId": "f9bb7a70-1b35-4287-cc1a-71cda3489573",
        "colab": {
          "base_uri": "https://localhost:8080/"
        }
      },
      "execution_count": 12,
      "outputs": [
        {
          "output_type": "stream",
          "name": "stdout",
          "text": [
            "Downloading...\n",
            "From: https://drive.google.com/uc?id=1LAclVWP_FJBhysLAR0ky1wIP3RveORXO\n",
            "To: /content/synonym.json\n",
            "\r  0% 0.00/16.2k [00:00<?, ?B/s]\r100% 16.2k/16.2k [00:00<00:00, 48.0MB/s]\n"
          ]
        }
      ]
    },
    {
      "cell_type": "markdown",
      "source": [
        "# TASK 2: Other Pre-trained Models"
      ],
      "metadata": {
        "id": "wOdS4oL1OVcg"
      }
    },
    {
      "cell_type": "markdown",
      "source": [
        "## Two models with different corpora but same embeddings"
      ],
      "metadata": {
        "id": "TPUnIjfUz9HH"
      }
    },
    {
      "cell_type": "code",
      "source": [
        "c1_300 = api.load('word2vec-ruscorpora-300')\n",
        "c2_300 = api.load('glove-wiki-gigaword-300')"
      ],
      "metadata": {
        "id": "Bu5wbwRU0A87",
        "outputId": "f5d32bcc-3aa9-4f22-a4c4-dd345ee8339b",
        "colab": {
          "base_uri": "https://localhost:8080/"
        }
      },
      "execution_count": null,
      "outputs": [
        {
          "output_type": "stream",
          "name": "stdout",
          "text": [
            "[==================================================] 100.0% 198.8/198.8MB downloaded\n",
            "[=============-------------------------------------] 27.4% 103.2/376.1MB downloaded"
          ]
        }
      ]
    },
    {
      "cell_type": "code",
      "source": [
        "print(list(api.info()['models'].keys()))\n"
      ],
      "metadata": {
        "id": "1cgQlt0d1zyB",
        "outputId": "5926d8d5-76cb-4c7d-a25b-45776b4d1c54",
        "colab": {
          "base_uri": "https://localhost:8080/"
        }
      },
      "execution_count": 15,
      "outputs": [
        {
          "output_type": "stream",
          "name": "stdout",
          "text": [
            "['fasttext-wiki-news-subwords-300', 'conceptnet-numberbatch-17-06-300', 'word2vec-ruscorpora-300', 'word2vec-google-news-300', 'glove-wiki-gigaword-50', 'glove-wiki-gigaword-100', 'glove-wiki-gigaword-200', 'glove-wiki-gigaword-300', 'glove-twitter-25', 'glove-twitter-50', 'glove-twitter-100', 'glove-twitter-200', '__testing_word2vec-matrix-synopsis']\n"
          ]
        }
      ]
    },
    {
      "cell_type": "markdown",
      "source": [
        "## Two models with same corpora but different embeddings"
      ],
      "metadata": {
        "id": "M3P41c18zK6w"
      }
    },
    {
      "cell_type": "code",
      "source": [
        "# For this task, we import pretrained models from Hugging face, the citations will be in the text cells below them.\n",
        "from gensim.models import KeyedVectors\n",
        "from huggingface_hub import hf_hub_download\n",
        "c3_100 = KeyedVectors.load_word2vec_format(hf_hub_download(repo_id=\"Word2vec/wikipedia2vec_dewiki_20180420_100d\", filename=\"dewiki_20180420_100d.txt\"))\n",
        "# model.most_similar(\"your_word\")\n"
      ],
      "metadata": {
        "id": "Ew8vAYQgvzBs",
        "outputId": "3f42b1ac-a95e-45d2-a96c-f42cb827de4f",
        "colab": {
          "base_uri": "https://localhost:8080/",
          "height": 391
        }
      },
      "execution_count": 14,
      "outputs": [
        {
          "output_type": "error",
          "ename": "KeyboardInterrupt",
          "evalue": "ignored",
          "traceback": [
            "\u001b[0;31m---------------------------------------------------------------------------\u001b[0m",
            "\u001b[0;31mKeyboardInterrupt\u001b[0m                         Traceback (most recent call last)",
            "\u001b[0;32m<ipython-input-14-702f5cdac0b1>\u001b[0m in \u001b[0;36m<cell line: 4>\u001b[0;34m()\u001b[0m\n\u001b[1;32m      2\u001b[0m \u001b[0;32mfrom\u001b[0m \u001b[0mgensim\u001b[0m\u001b[0;34m.\u001b[0m\u001b[0mmodels\u001b[0m \u001b[0;32mimport\u001b[0m \u001b[0mKeyedVectors\u001b[0m\u001b[0;34m\u001b[0m\u001b[0;34m\u001b[0m\u001b[0m\n\u001b[1;32m      3\u001b[0m \u001b[0;32mfrom\u001b[0m \u001b[0mhuggingface_hub\u001b[0m \u001b[0;32mimport\u001b[0m \u001b[0mhf_hub_download\u001b[0m\u001b[0;34m\u001b[0m\u001b[0;34m\u001b[0m\u001b[0m\n\u001b[0;32m----> 4\u001b[0;31m \u001b[0membed_100\u001b[0m \u001b[0;34m=\u001b[0m \u001b[0mKeyedVectors\u001b[0m\u001b[0;34m.\u001b[0m\u001b[0mload_word2vec_format\u001b[0m\u001b[0;34m(\u001b[0m\u001b[0mhf_hub_download\u001b[0m\u001b[0;34m(\u001b[0m\u001b[0mrepo_id\u001b[0m\u001b[0;34m=\u001b[0m\u001b[0;34m\"Word2vec/wikipedia2vec_dewiki_20180420_100d\"\u001b[0m\u001b[0;34m,\u001b[0m \u001b[0mfilename\u001b[0m\u001b[0;34m=\u001b[0m\u001b[0;34m\"dewiki_20180420_100d.txt\"\u001b[0m\u001b[0;34m)\u001b[0m\u001b[0;34m)\u001b[0m\u001b[0;34m\u001b[0m\u001b[0;34m\u001b[0m\u001b[0m\n\u001b[0m\u001b[1;32m      5\u001b[0m \u001b[0;31m# model.most_similar(\"your_word\")\u001b[0m\u001b[0;34m\u001b[0m\u001b[0;34m\u001b[0m\u001b[0m\n",
            "\u001b[0;32m/usr/local/lib/python3.10/dist-packages/gensim/models/keyedvectors.py\u001b[0m in \u001b[0;36mload_word2vec_format\u001b[0;34m(cls, fname, fvocab, binary, encoding, unicode_errors, limit, datatype, no_header)\u001b[0m\n\u001b[1;32m   1717\u001b[0m \u001b[0;34m\u001b[0m\u001b[0m\n\u001b[1;32m   1718\u001b[0m         \"\"\"\n\u001b[0;32m-> 1719\u001b[0;31m         return _load_word2vec_format(\n\u001b[0m\u001b[1;32m   1720\u001b[0m             \u001b[0mcls\u001b[0m\u001b[0;34m,\u001b[0m \u001b[0mfname\u001b[0m\u001b[0;34m,\u001b[0m \u001b[0mfvocab\u001b[0m\u001b[0;34m=\u001b[0m\u001b[0mfvocab\u001b[0m\u001b[0;34m,\u001b[0m \u001b[0mbinary\u001b[0m\u001b[0;34m=\u001b[0m\u001b[0mbinary\u001b[0m\u001b[0;34m,\u001b[0m \u001b[0mencoding\u001b[0m\u001b[0;34m=\u001b[0m\u001b[0mencoding\u001b[0m\u001b[0;34m,\u001b[0m \u001b[0municode_errors\u001b[0m\u001b[0;34m=\u001b[0m\u001b[0municode_errors\u001b[0m\u001b[0;34m,\u001b[0m\u001b[0;34m\u001b[0m\u001b[0;34m\u001b[0m\u001b[0m\n\u001b[1;32m   1721\u001b[0m             \u001b[0mlimit\u001b[0m\u001b[0;34m=\u001b[0m\u001b[0mlimit\u001b[0m\u001b[0;34m,\u001b[0m \u001b[0mdatatype\u001b[0m\u001b[0;34m=\u001b[0m\u001b[0mdatatype\u001b[0m\u001b[0;34m,\u001b[0m \u001b[0mno_header\u001b[0m\u001b[0;34m=\u001b[0m\u001b[0mno_header\u001b[0m\u001b[0;34m,\u001b[0m\u001b[0;34m\u001b[0m\u001b[0;34m\u001b[0m\u001b[0m\n",
            "\u001b[0;32m/usr/local/lib/python3.10/dist-packages/gensim/models/keyedvectors.py\u001b[0m in \u001b[0;36m_load_word2vec_format\u001b[0;34m(cls, fname, fvocab, binary, encoding, unicode_errors, limit, datatype, no_header, binary_chunk_size)\u001b[0m\n\u001b[1;32m   2067\u001b[0m             )\n\u001b[1;32m   2068\u001b[0m         \u001b[0;32melse\u001b[0m\u001b[0;34m:\u001b[0m\u001b[0;34m\u001b[0m\u001b[0;34m\u001b[0m\u001b[0m\n\u001b[0;32m-> 2069\u001b[0;31m             \u001b[0m_word2vec_read_text\u001b[0m\u001b[0;34m(\u001b[0m\u001b[0mfin\u001b[0m\u001b[0;34m,\u001b[0m \u001b[0mkv\u001b[0m\u001b[0;34m,\u001b[0m \u001b[0mcounts\u001b[0m\u001b[0;34m,\u001b[0m \u001b[0mvocab_size\u001b[0m\u001b[0;34m,\u001b[0m \u001b[0mvector_size\u001b[0m\u001b[0;34m,\u001b[0m \u001b[0mdatatype\u001b[0m\u001b[0;34m,\u001b[0m \u001b[0municode_errors\u001b[0m\u001b[0;34m,\u001b[0m \u001b[0mencoding\u001b[0m\u001b[0;34m)\u001b[0m\u001b[0;34m\u001b[0m\u001b[0;34m\u001b[0m\u001b[0m\n\u001b[0m\u001b[1;32m   2070\u001b[0m     \u001b[0;32mif\u001b[0m \u001b[0mkv\u001b[0m\u001b[0;34m.\u001b[0m\u001b[0mvectors\u001b[0m\u001b[0;34m.\u001b[0m\u001b[0mshape\u001b[0m\u001b[0;34m[\u001b[0m\u001b[0;36m0\u001b[0m\u001b[0;34m]\u001b[0m \u001b[0;34m!=\u001b[0m \u001b[0mlen\u001b[0m\u001b[0;34m(\u001b[0m\u001b[0mkv\u001b[0m\u001b[0;34m)\u001b[0m\u001b[0;34m:\u001b[0m\u001b[0;34m\u001b[0m\u001b[0;34m\u001b[0m\u001b[0m\n\u001b[1;32m   2071\u001b[0m         logger.info(\n",
            "\u001b[0;32m/usr/local/lib/python3.10/dist-packages/gensim/models/keyedvectors.py\u001b[0m in \u001b[0;36m_word2vec_read_text\u001b[0;34m(fin, kv, counts, vocab_size, vector_size, datatype, unicode_errors, encoding)\u001b[0m\n\u001b[1;32m   1972\u001b[0m         \u001b[0;32mif\u001b[0m \u001b[0mline\u001b[0m \u001b[0;34m==\u001b[0m \u001b[0;34mb''\u001b[0m\u001b[0;34m:\u001b[0m\u001b[0;34m\u001b[0m\u001b[0;34m\u001b[0m\u001b[0m\n\u001b[1;32m   1973\u001b[0m             \u001b[0;32mraise\u001b[0m \u001b[0mEOFError\u001b[0m\u001b[0;34m(\u001b[0m\u001b[0;34m\"unexpected end of input; is count incorrect or file otherwise damaged?\"\u001b[0m\u001b[0;34m)\u001b[0m\u001b[0;34m\u001b[0m\u001b[0;34m\u001b[0m\u001b[0m\n\u001b[0;32m-> 1974\u001b[0;31m         \u001b[0mword\u001b[0m\u001b[0;34m,\u001b[0m \u001b[0mweights\u001b[0m \u001b[0;34m=\u001b[0m \u001b[0m_word2vec_line_to_vector\u001b[0m\u001b[0;34m(\u001b[0m\u001b[0mline\u001b[0m\u001b[0;34m,\u001b[0m \u001b[0mdatatype\u001b[0m\u001b[0;34m,\u001b[0m \u001b[0municode_errors\u001b[0m\u001b[0;34m,\u001b[0m \u001b[0mencoding\u001b[0m\u001b[0;34m)\u001b[0m\u001b[0;34m\u001b[0m\u001b[0;34m\u001b[0m\u001b[0m\n\u001b[0m\u001b[1;32m   1975\u001b[0m         \u001b[0m_add_word_to_kv\u001b[0m\u001b[0;34m(\u001b[0m\u001b[0mkv\u001b[0m\u001b[0;34m,\u001b[0m \u001b[0mcounts\u001b[0m\u001b[0;34m,\u001b[0m \u001b[0mword\u001b[0m\u001b[0;34m,\u001b[0m \u001b[0mweights\u001b[0m\u001b[0;34m,\u001b[0m \u001b[0mvocab_size\u001b[0m\u001b[0;34m)\u001b[0m\u001b[0;34m\u001b[0m\u001b[0;34m\u001b[0m\u001b[0m\n\u001b[1;32m   1976\u001b[0m \u001b[0;34m\u001b[0m\u001b[0m\n",
            "\u001b[0;32m/usr/local/lib/python3.10/dist-packages/gensim/models/keyedvectors.py\u001b[0m in \u001b[0;36m_word2vec_line_to_vector\u001b[0;34m(line, datatype, unicode_errors, encoding)\u001b[0m\n\u001b[1;32m   1978\u001b[0m \u001b[0;32mdef\u001b[0m \u001b[0m_word2vec_line_to_vector\u001b[0m\u001b[0;34m(\u001b[0m\u001b[0mline\u001b[0m\u001b[0;34m,\u001b[0m \u001b[0mdatatype\u001b[0m\u001b[0;34m,\u001b[0m \u001b[0municode_errors\u001b[0m\u001b[0;34m,\u001b[0m \u001b[0mencoding\u001b[0m\u001b[0;34m)\u001b[0m\u001b[0;34m:\u001b[0m\u001b[0;34m\u001b[0m\u001b[0;34m\u001b[0m\u001b[0m\n\u001b[1;32m   1979\u001b[0m     \u001b[0mparts\u001b[0m \u001b[0;34m=\u001b[0m \u001b[0mutils\u001b[0m\u001b[0;34m.\u001b[0m\u001b[0mto_unicode\u001b[0m\u001b[0;34m(\u001b[0m\u001b[0mline\u001b[0m\u001b[0;34m.\u001b[0m\u001b[0mrstrip\u001b[0m\u001b[0;34m(\u001b[0m\u001b[0;34m)\u001b[0m\u001b[0;34m,\u001b[0m \u001b[0mencoding\u001b[0m\u001b[0;34m=\u001b[0m\u001b[0mencoding\u001b[0m\u001b[0;34m,\u001b[0m \u001b[0merrors\u001b[0m\u001b[0;34m=\u001b[0m\u001b[0municode_errors\u001b[0m\u001b[0;34m)\u001b[0m\u001b[0;34m.\u001b[0m\u001b[0msplit\u001b[0m\u001b[0;34m(\u001b[0m\u001b[0;34m\" \"\u001b[0m\u001b[0;34m)\u001b[0m\u001b[0;34m\u001b[0m\u001b[0;34m\u001b[0m\u001b[0m\n\u001b[0;32m-> 1980\u001b[0;31m     \u001b[0mword\u001b[0m\u001b[0;34m,\u001b[0m \u001b[0mweights\u001b[0m \u001b[0;34m=\u001b[0m \u001b[0mparts\u001b[0m\u001b[0;34m[\u001b[0m\u001b[0;36m0\u001b[0m\u001b[0;34m]\u001b[0m\u001b[0;34m,\u001b[0m \u001b[0;34m[\u001b[0m\u001b[0mdatatype\u001b[0m\u001b[0;34m(\u001b[0m\u001b[0mx\u001b[0m\u001b[0;34m)\u001b[0m \u001b[0;32mfor\u001b[0m \u001b[0mx\u001b[0m \u001b[0;32min\u001b[0m \u001b[0mparts\u001b[0m\u001b[0;34m[\u001b[0m\u001b[0;36m1\u001b[0m\u001b[0;34m:\u001b[0m\u001b[0;34m]\u001b[0m\u001b[0;34m]\u001b[0m\u001b[0;34m\u001b[0m\u001b[0;34m\u001b[0m\u001b[0m\n\u001b[0m\u001b[1;32m   1981\u001b[0m     \u001b[0;32mreturn\u001b[0m \u001b[0mword\u001b[0m\u001b[0;34m,\u001b[0m \u001b[0mweights\u001b[0m\u001b[0;34m\u001b[0m\u001b[0;34m\u001b[0m\u001b[0m\n\u001b[1;32m   1982\u001b[0m \u001b[0;34m\u001b[0m\u001b[0m\n",
            "\u001b[0;32m/usr/local/lib/python3.10/dist-packages/gensim/models/keyedvectors.py\u001b[0m in \u001b[0;36m<listcomp>\u001b[0;34m(.0)\u001b[0m\n\u001b[1;32m   1978\u001b[0m \u001b[0;32mdef\u001b[0m \u001b[0m_word2vec_line_to_vector\u001b[0m\u001b[0;34m(\u001b[0m\u001b[0mline\u001b[0m\u001b[0;34m,\u001b[0m \u001b[0mdatatype\u001b[0m\u001b[0;34m,\u001b[0m \u001b[0municode_errors\u001b[0m\u001b[0;34m,\u001b[0m \u001b[0mencoding\u001b[0m\u001b[0;34m)\u001b[0m\u001b[0;34m:\u001b[0m\u001b[0;34m\u001b[0m\u001b[0;34m\u001b[0m\u001b[0m\n\u001b[1;32m   1979\u001b[0m     \u001b[0mparts\u001b[0m \u001b[0;34m=\u001b[0m \u001b[0mutils\u001b[0m\u001b[0;34m.\u001b[0m\u001b[0mto_unicode\u001b[0m\u001b[0;34m(\u001b[0m\u001b[0mline\u001b[0m\u001b[0;34m.\u001b[0m\u001b[0mrstrip\u001b[0m\u001b[0;34m(\u001b[0m\u001b[0;34m)\u001b[0m\u001b[0;34m,\u001b[0m \u001b[0mencoding\u001b[0m\u001b[0;34m=\u001b[0m\u001b[0mencoding\u001b[0m\u001b[0;34m,\u001b[0m \u001b[0merrors\u001b[0m\u001b[0;34m=\u001b[0m\u001b[0municode_errors\u001b[0m\u001b[0;34m)\u001b[0m\u001b[0;34m.\u001b[0m\u001b[0msplit\u001b[0m\u001b[0;34m(\u001b[0m\u001b[0;34m\" \"\u001b[0m\u001b[0;34m)\u001b[0m\u001b[0;34m\u001b[0m\u001b[0;34m\u001b[0m\u001b[0m\n\u001b[0;32m-> 1980\u001b[0;31m     \u001b[0mword\u001b[0m\u001b[0;34m,\u001b[0m \u001b[0mweights\u001b[0m \u001b[0;34m=\u001b[0m \u001b[0mparts\u001b[0m\u001b[0;34m[\u001b[0m\u001b[0;36m0\u001b[0m\u001b[0;34m]\u001b[0m\u001b[0;34m,\u001b[0m \u001b[0;34m[\u001b[0m\u001b[0mdatatype\u001b[0m\u001b[0;34m(\u001b[0m\u001b[0mx\u001b[0m\u001b[0;34m)\u001b[0m \u001b[0;32mfor\u001b[0m \u001b[0mx\u001b[0m \u001b[0;32min\u001b[0m \u001b[0mparts\u001b[0m\u001b[0;34m[\u001b[0m\u001b[0;36m1\u001b[0m\u001b[0;34m:\u001b[0m\u001b[0;34m]\u001b[0m\u001b[0;34m]\u001b[0m\u001b[0;34m\u001b[0m\u001b[0;34m\u001b[0m\u001b[0m\n\u001b[0m\u001b[1;32m   1981\u001b[0m     \u001b[0;32mreturn\u001b[0m \u001b[0mword\u001b[0m\u001b[0;34m,\u001b[0m \u001b[0mweights\u001b[0m\u001b[0;34m\u001b[0m\u001b[0;34m\u001b[0m\u001b[0m\n\u001b[1;32m   1982\u001b[0m \u001b[0;34m\u001b[0m\u001b[0m\n",
            "\u001b[0;31mKeyboardInterrupt\u001b[0m: "
          ]
        }
      ]
    },
    {
      "cell_type": "markdown",
      "source": [
        "@inproceedings{yamada2020wikipedia2vec,\n",
        "  title = \"{W}ikipedia2{V}ec: An Efficient Toolkit for Learning and Visualizing the Embeddings of Words and Entities from {W}ikipedia\",\n",
        "  author={Yamada, Ikuya and Asai, Akari and Sakuma, Jin and Shindo, Hiroyuki and Takeda, Hideaki and Takefuji, Yoshiyasu and Matsumoto, Yuji},\n",
        "  booktitle = {Proceedings of the 2020 Conference on Empirical Methods in Natural Language Processing: System Demonstrations},\n",
        "  year = {2020},\n",
        "  publisher = {Association for Computational Linguistics},\n",
        "  pages = {23--30}\n",
        "}\n"
      ],
      "metadata": {
        "id": "bwDvltrry8cX"
      }
    },
    {
      "cell_type": "code",
      "source": [
        "# For this task, we import pretrained models from Hugging face, the citations will be in the text cells below them.\n",
        "from gensim.models import KeyedVectors\n",
        "from huggingface_hub import hf_hub_download\n",
        "c4_300 = KeyedVectors.load_word2vec_format(hf_hub_download(repo_id=\"Word2vec/wikipedia2vec_enwiki_20180420_win10_300d\", filename=\"enwiki_20180420_win10_300d.txt\"))\n",
        "# model.most_similar(\"your_word\")"
      ],
      "metadata": {
        "id": "8AKZ_A0tzCyA"
      },
      "execution_count": null,
      "outputs": []
    },
    {
      "cell_type": "markdown",
      "source": [
        "@inproceedings{yamada2020wikipedia2vec,\n",
        "  title = \"{W}ikipedia2{V}ec: An Efficient Toolkit for Learning and Visualizing the Embeddings of Words and Entities from {W}ikipedia\",\n",
        "  author={Yamada, Ikuya and Asai, Akari and Sakuma, Jin and Shindo, Hiroyuki and Takeda, Hideaki and Takefuji, Yoshiyasu and Matsumoto, Yuji},\n",
        "  booktitle = {Proceedings of the 2020 Conference on Empirical Methods in Natural Language Processing: System Demonstrations},\n",
        "  year = {2020},\n",
        "  publisher = {Association for Computational Linguistics},\n",
        "  pages = {23--30}\n",
        "}\n"
      ],
      "metadata": {
        "id": "9ZWGccx_zmO_"
      }
    },
    {
      "cell_type": "markdown",
      "source": [
        "# TASK 3: Training Own Models"
      ],
      "metadata": {
        "id": "uPvAQi74OGyQ"
      }
    },
    {
      "cell_type": "code",
      "source": [
        "#!pip uninstall nltk"
      ],
      "metadata": {
        "id": "ILSlR9TdXSiS"
      },
      "execution_count": null,
      "outputs": []
    },
    {
      "cell_type": "code",
      "source": [
        "#!pip install -U nltk"
      ],
      "metadata": {
        "id": "XikAxZ-MZKsH"
      },
      "execution_count": null,
      "outputs": []
    },
    {
      "cell_type": "code",
      "source": [
        "### PREPROCESSING ###\n",
        "#nltk.download()\n",
        "#nltk.download('gutenberg')\n",
        "nltk.download('punkt')\n",
        "\"\"\"\n",
        "TO DO\n",
        "Fully implement preprocessing for all books.\n",
        "Create word embeddings from sentences.\n",
        "\"\"\"\n",
        "\n",
        "\n",
        "\"\"\"\n",
        "tokenizing (grouping) - word tokenizer will seperate words.\n",
        "corpora - body of text\n",
        "lexicon - words and their meanings\n",
        "\"\"\"\n",
        "\n",
        "#nltk.download('twitter_samples')\n",
        "sample = open(\"/content/books/testfile.txt\")\n",
        "booktext = sample.read()\n",
        "booktext = booktext.replace(\"\\n\",\" \")\n",
        "\n",
        "\n",
        "#sample = open(\"/content/books/alice.txt\")\n",
        "#booktext = sample.read()\n",
        "#sample = open(\"/content/books/the_gold_thimble.txt\")\n",
        "#booktext += \" \" + sample.read()\n",
        "#sample = open(\"/content/books/a_spring_harvest.txt\")\n",
        "#booktext += \" \" + sample.read()\n",
        "#sample = open(\"/content/books/a_middle_english_vocabulary.txt\")\n",
        "#booktext += \" \" + sample.read()\n",
        "#sample = open(\"/content/books/a_tangled_tale.txt\")\n",
        "#booktext += \" \" + sample.read()\n",
        "#booktext = booktext.replace(\"\\n\",\" \")\n",
        "\n",
        "data = []\n",
        "\n",
        "#iterate through each sentence in the file\n",
        "for i in nltk.sent_tokenize(booktext):\n",
        "  temp = []\n",
        "  #tokenize sentence into words\n",
        "  for j in nltk.word_tokenize(i):\n",
        "    temp.append(j.lower())\n",
        "  data.append(temp)\n",
        "\n",
        "\n",
        "#tokens = nltk.sent_tokenize(booktext)\n",
        "#print(tokens)\n",
        "\n",
        "#wordvec = [nltk.word_tokenize(booktext)]\n",
        "#wordvec\n",
        "\n",
        "\n",
        "\n"
      ],
      "metadata": {
        "colab": {
          "base_uri": "https://localhost:8080/",
          "height": 285
        },
        "id": "V-a4CnSxV6mE",
        "outputId": "53f7fbe9-3b6a-49e7-df8b-21869c08eca5"
      },
      "execution_count": null,
      "outputs": [
        {
          "output_type": "stream",
          "name": "stderr",
          "text": [
            "[nltk_data] Downloading package punkt to /root/nltk_data...\n",
            "[nltk_data]   Unzipping tokenizers/punkt.zip.\n"
          ]
        },
        {
          "output_type": "error",
          "ename": "FileNotFoundError",
          "evalue": "ignored",
          "traceback": [
            "\u001b[0;31m---------------------------------------------------------------------------\u001b[0m",
            "\u001b[0;31mFileNotFoundError\u001b[0m                         Traceback (most recent call last)",
            "\u001b[0;32m<ipython-input-9-63dc7ba2fe5b>\u001b[0m in \u001b[0;36m<cell line: 19>\u001b[0;34m()\u001b[0m\n\u001b[1;32m     17\u001b[0m \u001b[0;34m\u001b[0m\u001b[0m\n\u001b[1;32m     18\u001b[0m \u001b[0;31m#nltk.download('twitter_samples')\u001b[0m\u001b[0;34m\u001b[0m\u001b[0;34m\u001b[0m\u001b[0m\n\u001b[0;32m---> 19\u001b[0;31m \u001b[0msample\u001b[0m \u001b[0;34m=\u001b[0m \u001b[0mopen\u001b[0m\u001b[0;34m(\u001b[0m\u001b[0;34m\"/content/books/testfile.txt\"\u001b[0m\u001b[0;34m)\u001b[0m\u001b[0;34m\u001b[0m\u001b[0;34m\u001b[0m\u001b[0m\n\u001b[0m\u001b[1;32m     20\u001b[0m \u001b[0mbooktext\u001b[0m \u001b[0;34m=\u001b[0m \u001b[0msample\u001b[0m\u001b[0;34m.\u001b[0m\u001b[0mread\u001b[0m\u001b[0;34m(\u001b[0m\u001b[0;34m)\u001b[0m\u001b[0;34m\u001b[0m\u001b[0;34m\u001b[0m\u001b[0m\n\u001b[1;32m     21\u001b[0m \u001b[0mbooktext\u001b[0m \u001b[0;34m=\u001b[0m \u001b[0mbooktext\u001b[0m\u001b[0;34m.\u001b[0m\u001b[0mreplace\u001b[0m\u001b[0;34m(\u001b[0m\u001b[0;34m\"\\n\"\u001b[0m\u001b[0;34m,\u001b[0m\u001b[0;34m\" \"\u001b[0m\u001b[0;34m)\u001b[0m\u001b[0;34m\u001b[0m\u001b[0;34m\u001b[0m\u001b[0m\n",
            "\u001b[0;31mFileNotFoundError\u001b[0m: [Errno 2] No such file or directory: '/content/books/testfile.txt'"
          ]
        }
      ]
    },
    {
      "cell_type": "code",
      "source": [
        "### TRAINING MODEL ###\n",
        "\"\"\"\n",
        "TO DO\n",
        "Generate 4 different models.\n",
        "What are the default values saw in class? For the CBOW\n",
        "\"\"\"\n",
        "#Window and Embeddings(vectors) sizes\n",
        "W1 = 3\n",
        "W2 = 5\n",
        "E5 = 50\n",
        "E6 = 200\n",
        "\n",
        "\n",
        "\n",
        "#Create CBOW models\n",
        "#Parameter example of Word2Vec(sentences=text, vector_size=100, window=5, min_count=1, workers=4)\n",
        "own_model1 = Word2Vec(booktext, vector_size=E5, window=W1, min_count=1)\n",
        "#own_model2 = Word2Vec(booktext, vector_size=E5, window=W2, min_count=1)\n",
        "#own_model3 = Word2Vec(booktext, vector_size=E6, window=W1, min_count=1)\n",
        "#own_model4 = Word2Vec(booktext, vector_size=E6, window=W2, min_count=1)\n",
        "\n"
      ],
      "metadata": {
        "id": "mlJ6HiftJixJ"
      },
      "execution_count": null,
      "outputs": []
    },
    {
      "cell_type": "code",
      "source": [
        "### CREATING CSV FILES ###\n",
        "\"\"\"\n",
        "TO DO\n",
        "Verify if correct\n",
        "\"\"\"\n",
        "def create_model_file(model_name):\n",
        "  model_name = str(model_name) + \"details.csv\"\n",
        "  with open(model_name, \"a\") as f:\n",
        "    for question in res:\n",
        "      if question.guessed_word == None:\n",
        "        question.guessed_word = \"\"\n",
        "      f.write(\",\".join([question.question,\n",
        "                        question.answer,\n",
        "                        question.guessed_word,\n",
        "                        question.label.value]))\n",
        "      f.write(\"\\n\")\n",
        "\n",
        "\n",
        "def append_results(model_name, embed_size, window_size):\n",
        "  model_name = str(model_name) + \"-\" + str(embed_size) + \"-\" + str(window_size)\n",
        "  with open(EVAL_FILENAME, \"a\") as f:\n",
        "    f.write(\",\".join([model_name,str(length), str(C), str(V), str(accuracy)]))\n",
        "    f.write(\"\\n\")\n",
        "\n",
        "\n"
      ],
      "metadata": {
        "id": "3kAu_XlSRb8O"
      },
      "execution_count": null,
      "outputs": []
    }
  ]
}