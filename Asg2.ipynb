{
  "cells": [
    {
      "cell_type": "markdown",
      "metadata": {
        "colab_type": "text",
        "id": "view-in-github"
      },
      "source": [
        "<a href=\"https://colab.research.google.com/github/jeremilev/comp472-project/blob/asg2/Asg2.ipynb\" target=\"_parent\"><img src=\"https://colab.research.google.com/assets/colab-badge.svg\" alt=\"Open In Colab\"/></a>"
      ]
    },
    {
      "cell_type": "markdown",
      "metadata": {
        "id": "AZZE8rK7UsTt"
      },
      "source": [
        "# TASK 1: Evaluation of word2vec-google-news-300 pre-trained model"
      ]
    },
    {
      "cell_type": "code",
      "execution_count": 69,
      "metadata": {
        "id": "UP596VYJFBl0"
      },
      "outputs": [],
      "source": [
        "import gensim.downloader as api\n",
        "from gensim.models import Word2Vec\n",
        "from gensim import similarities\n",
        "from enum import Enum\n",
        "import json\n",
        "from dataclasses import dataclass\n",
        "import nltk\n",
        "import numpy as np\n",
        "import pandas as pd\n",
        "import csv\n",
        "import random\n"
      ]
    },
    {
      "cell_type": "code",
      "execution_count": 2,
      "metadata": {
        "colab": {
          "base_uri": "https://localhost:8080/"
        },
        "id": "dHz2ybGXFcsS",
        "outputId": "4668a69f-7b0c-48b2-f439-1987464664a9"
      },
      "outputs": [
        {
          "name": "stdout",
          "output_type": "stream",
          "text": [
            "{'num_records': 3000000, 'file_size': 1743563840, 'base_dataset': 'Google News (about 100 billion words)', 'reader_code': 'https://github.com/RaRe-Technologies/gensim-data/releases/download/word2vec-google-news-300/__init__.py', 'license': 'not found', 'parameters': {'dimension': 300}, 'description': \"Pre-trained vectors trained on a part of the Google News dataset (about 100 billion words). The model contains 300-dimensional vectors for 3 million words and phrases. The phrases were obtained using a simple data-driven approach described in 'Distributed Representations of Words and Phrases and their Compositionality' (https://code.google.com/archive/p/word2vec/).\", 'read_more': ['https://code.google.com/archive/p/word2vec/', 'https://arxiv.org/abs/1301.3781', 'https://arxiv.org/abs/1310.4546', 'https://www.microsoft.com/en-us/research/publication/linguistic-regularities-in-continuous-space-word-representations/?from=http%3A%2F%2Fresearch.microsoft.com%2Fpubs%2F189726%2Frvecs.pdf'], 'checksum': 'a5e5354d40acb95f9ec66d5977d140ef', 'file_name': 'word2vec-google-news-300.gz', 'parts': 1}\n",
            "[==================================================] 100.0% 1662.8/1662.8MB downloaded\n"
          ]
        }
      ],
      "source": [
        "GOOGLE_MODEL = \"word2vec-google-news-300\"\n",
        "\n",
        "print(api.info(GOOGLE_MODEL))\n",
        "model = api.load(GOOGLE_MODEL)"
      ]
    },
    {
      "cell_type": "code",
      "execution_count": 3,
      "metadata": {
        "id": "aHj0jJaKXcev"
      },
      "outputs": [],
      "source": [
        "class Label(Enum):\n",
        "  GUESS = \"guess\"\n",
        "  CORRECT = \"correct\"\n",
        "  WRONG = \"wrong\"\n",
        "\n",
        "@dataclass\n",
        "class Question:\n",
        "  question: str\n",
        "  answer: str\n",
        "  choices: [str]\n",
        "  label: Label = Label.GUESS\n",
        "  guessed_word: str = None"
      ]
    },
    {
      "cell_type": "code",
      "execution_count": 4,
      "metadata": {
        "id": "9Sm2j6t3IZiu"
      },
      "outputs": [],
      "source": [
        "def predict_most_simmilar_word(question: Question) -> Question:\n",
        "  highest_similarity = (0, \"\")\n",
        "  for choice in question.choices:\n",
        "      try:\n",
        "        similarity = model.similarity(question.question, choice)\n",
        "      except(KeyError):\n",
        "        continue\n",
        "      if similarity > highest_similarity[0]:\n",
        "        highest_similarity = (similarity, choice)\n",
        "\n",
        "  question.guessed_word = highest_similarity[1]\n",
        "  if highest_similarity[0] == 0: return question\n",
        "  if question.answer == question.guessed_word: question.label = Label.CORRECT\n",
        "  else: question.label = Label.WRONG\n",
        "  return question\n",
        "\n",
        "def get_simmilar_list(questions: dict) -> list[Question]:\n",
        "  for question in questions:\n",
        "    predict_most_simmilar_word(question)\n",
        "\n",
        "  return questions"
      ]
    },
    {
      "cell_type": "code",
      "execution_count": 5,
      "metadata": {
        "colab": {
          "base_uri": "https://localhost:8080/"
        },
        "id": "PSlW18RYUrT1",
        "outputId": "35c00fb6-82f7-41bf-d02b-37df82114cb5"
      },
      "outputs": [
        {
          "name": "stdout",
          "output_type": "stream",
          "text": [
            "Downloading...\n",
            "From: https://drive.google.com/uc?id=1LAclVWP_FJBhysLAR0ky1wIP3RveORXO\n",
            "To: /content/synonym.json\n",
            "\r  0% 0.00/16.2k [00:00<?, ?B/s]\r100% 16.2k/16.2k [00:00<00:00, 34.2MB/s]\n"
          ]
        }
      ],
      "source": [
        "# import files\n",
        "!gdown  https://drive.google.com/uc?id=1LAclVWP_FJBhysLAR0ky1wIP3RveORXO\n",
        "\n",
        "INP_FILENAME = \"synonym.json\"\n",
        "OUTP_FILENAME = f\"{GOOGLE_MODEL}-details.csv\"\n",
        "EVAL_FILENAME = \"analysis.csv\"\n",
        "\n",
        "questions = []\n",
        "with open(INP_FILENAME) as f:\n",
        "  data = json.load(f)\n",
        "  for obj in data:\n",
        "    questions.append(Question(**obj))\n",
        "\n",
        "res = get_simmilar_list(questions)\n",
        "with open(OUTP_FILENAME, \"a\") as f:\n",
        "  for question in res:\n",
        "    if question.guessed_word == None:\n",
        "      question.guessed_word = \"\"\n",
        "    f.write(\",\".join([question.question,\n",
        "                      question.answer,\n",
        "                      question.guessed_word,\n",
        "                      question.label.value]))\n",
        "    f.write(\"\\n\")\n",
        "\n",
        "with open(EVAL_FILENAME, \"a\") as f:\n",
        "  length = len(model)\n",
        "  C = len([x for x in res if x.label == Label.CORRECT])\n",
        "  guesses = len([x for x in res if x.label == Label.GUESS])\n",
        "  V = len(res) - guesses\n",
        "  if V != 0:\n",
        "    accuracy = C/V\n",
        "  else: accuracy = 0\n",
        "\n",
        "  f.write(\",\".join([GOOGLE_MODEL,str(length), str(C), str(V), str(accuracy)]))\n",
        "  f.write(\"\\n\")"
      ]
    },
    {
      "cell_type": "markdown",
      "metadata": {
        "id": "wOdS4oL1OVcg"
      },
      "source": [
        "# TASK 2: Other Pre-trained Models"
      ]
    },
    {
      "cell_type": "markdown",
      "metadata": {
        "id": "TPUnIjfUz9HH"
      },
      "source": [
        "## Two models with different corpora but same embeddings"
      ]
    },
    {
      "cell_type": "code",
      "execution_count": 6,
      "metadata": {
        "colab": {
          "base_uri": "https://localhost:8080/",
          "height": 77,
          "referenced_widgets": [
            "71b6a55e17964cc3850b38e1df2519fe",
            "5e9fe0a519e0454db650c16c591461c8",
            "f1493a1f70f24b61afbeca492a1c028f",
            "d1a743e325f84456a1bad379da3571ea",
            "80e638f22f0e4266b9421ed4660d449a",
            "38093c0bd3ae440486325ca54262213a",
            "d61e935305e54713905a4b210f4fbbba",
            "30aab0e369f140809c4e0bdbbd84c9a4",
            "f2bfd580c0fc41a595a5878c63202961",
            "3ec8c261791247028a282145943611bf",
            "b34989e959f7420e8247adce5df087d0"
          ]
        },
        "id": "qPMWB5Mm-PZ8",
        "outputId": "843c7839-e5c6-4520-f1c9-8a4faa8a48da"
      },
      "outputs": [
        {
          "data": {
            "application/vnd.jupyter.widget-view+json": {
              "model_id": "71b6a55e17964cc3850b38e1df2519fe",
              "version_major": 2,
              "version_minor": 0
            },
            "text/plain": [
              "enwiki_20180420_100d.txt:   0%|          | 0.00/3.49G [00:00<?, ?B/s]"
            ]
          },
          "metadata": {},
          "output_type": "display_data"
        }
      ],
      "source": [
        "from gensim.models import KeyedVectors\n",
        "from huggingface_hub import hf_hub_download\n",
        "wiki2018 = KeyedVectors.load_word2vec_format(hf_hub_download(repo_id=\"Word2vec/wikipedia2vec_enwiki_20180420_100d\", filename=\"enwiki_20180420_100d.txt\"))"
      ]
    },
    {
      "cell_type": "markdown",
      "metadata": {
        "id": "ASCcrQv4-kuZ"
      },
      "source": [
        "@inproceedings{yamada2020wikipedia2vec,\n",
        "  title = \"{W}ikipedia2{V}ec: An Efficient Toolkit for Learning and Visualizing the Embeddings of Words and Entities from {W}ikipedia\",\n",
        "  author={Yamada, Ikuya and Asai, Akari and Sakuma, Jin and Shindo, Hiroyuki and Takeda, Hideaki and Takefuji, Yoshiyasu and Matsumoto, Yuji},\n",
        "  booktitle = {Proceedings of the 2020 Conference on Empirical Methods in Natural Language Processing: System Demonstrations},\n",
        "  year = {2020},\n",
        "  publisher = {Association for Computational Linguistics},\n",
        "  pages = {23--30}\n",
        "}"
      ]
    },
    {
      "cell_type": "code",
      "execution_count": 7,
      "metadata": {
        "colab": {
          "base_uri": "https://localhost:8080/"
        },
        "id": "Ck0JQHdg-oLr",
        "outputId": "61e603fc-bb38-4b6b-ac58-be058372835a"
      },
      "outputs": [
        {
          "name": "stdout",
          "output_type": "stream",
          "text": [
            "[==================================================] 100.0% 128.1/128.1MB downloaded\n"
          ]
        }
      ],
      "source": [
        "wiki_gigaword = api.load('glove-wiki-gigaword-100')"
      ]
    },
    {
      "cell_type": "markdown",
      "metadata": {
        "id": "M3P41c18zK6w"
      },
      "source": [
        "## Two models with same corpora but different embeddings"
      ]
    },
    {
      "cell_type": "code",
      "execution_count": 9,
      "metadata": {
        "colab": {
          "base_uri": "https://localhost:8080/"
        },
        "id": "LD32Lyz9EFFV",
        "outputId": "38c71345-8593-4c98-f1b9-f5f4138b6d5f"
      },
      "outputs": [
        {
          "name": "stdout",
          "output_type": "stream",
          "text": [
            "[==================================================] 100.0% 199.5/199.5MB downloaded\n"
          ]
        }
      ],
      "source": [
        "twitter_25 = api.load('glove-twitter-25')\n",
        "twitter_50 = api.load('glove-twitter-50')"
      ]
    },
    {
      "cell_type": "markdown",
      "metadata": {
        "id": "_Z_xz5HIAMp_"
      },
      "source": [
        "##"
      ]
    },
    {
      "cell_type": "code",
      "execution_count": 10,
      "metadata": {
        "colab": {
          "base_uri": "https://localhost:8080/"
        },
        "id": "2XOb_N8fqJVJ",
        "outputId": "40c64b54-5dd6-4267-8efb-b8288a923d52"
      },
      "outputs": [
        {
          "name": "stdout",
          "output_type": "stream",
          "text": [
            "Downloading...\n",
            "From: https://drive.google.com/uc?id=1-T1NeG8vIkCRw_Vz7xSVMb4k1TiOAbMy\n",
            "To: /content/synonym.csv\n",
            "\r  0% 0.00/4.42k [00:00<?, ?B/s]\r100% 4.42k/4.42k [00:00<00:00, 13.8MB/s]\n"
          ]
        }
      ],
      "source": [
        "!gdown https://drive.google.com/uc?id=1-T1NeG8vIkCRw_Vz7xSVMb4k1TiOAbMy"
      ]
    },
    {
      "cell_type": "code",
      "execution_count": 40,
      "metadata": {
        "colab": {
          "base_uri": "https://localhost:8080/",
          "height": 206
        },
        "id": "WmocCGmUfFrY",
        "outputId": "6439cf2b-6c6f-49aa-c8b4-a259e99543a4"
      },
      "outputs": [
        {
          "data": {
            "text/html": [
              "\n",
              "  <div id=\"df-b12c2de4-b5c7-42f9-ab9a-615589b36529\" class=\"colab-df-container\">\n",
              "    <div>\n",
              "<style scoped>\n",
              "    .dataframe tbody tr th:only-of-type {\n",
              "        vertical-align: middle;\n",
              "    }\n",
              "\n",
              "    .dataframe tbody tr th {\n",
              "        vertical-align: top;\n",
              "    }\n",
              "\n",
              "    .dataframe thead th {\n",
              "        text-align: right;\n",
              "    }\n",
              "</style>\n",
              "<table border=\"1\" class=\"dataframe\">\n",
              "  <thead>\n",
              "    <tr style=\"text-align: right;\">\n",
              "      <th></th>\n",
              "      <th>question</th>\n",
              "      <th>answer</th>\n",
              "      <th>0</th>\n",
              "      <th>1</th>\n",
              "      <th>2</th>\n",
              "      <th>3</th>\n",
              "    </tr>\n",
              "  </thead>\n",
              "  <tbody>\n",
              "    <tr>\n",
              "      <th>0</th>\n",
              "      <td>enormously</td>\n",
              "      <td>tremendously</td>\n",
              "      <td>appropriately</td>\n",
              "      <td>uniquely</td>\n",
              "      <td>tremendously</td>\n",
              "      <td>decidedly</td>\n",
              "    </tr>\n",
              "    <tr>\n",
              "      <th>1</th>\n",
              "      <td>provisions</td>\n",
              "      <td>stipulations</td>\n",
              "      <td>stipulations</td>\n",
              "      <td>interrelations</td>\n",
              "      <td>jurisdictions</td>\n",
              "      <td>interpretations</td>\n",
              "    </tr>\n",
              "    <tr>\n",
              "      <th>2</th>\n",
              "      <td>haphazardly</td>\n",
              "      <td>randomly</td>\n",
              "      <td>dangerously</td>\n",
              "      <td>densely</td>\n",
              "      <td>randomly</td>\n",
              "      <td>linearly</td>\n",
              "    </tr>\n",
              "    <tr>\n",
              "      <th>3</th>\n",
              "      <td>prominent</td>\n",
              "      <td>conspicuous</td>\n",
              "      <td>battered</td>\n",
              "      <td>ancient</td>\n",
              "      <td>mysterious</td>\n",
              "      <td>conspicuous</td>\n",
              "    </tr>\n",
              "    <tr>\n",
              "      <th>4</th>\n",
              "      <td>zenith</td>\n",
              "      <td>pinnacle</td>\n",
              "      <td>completion</td>\n",
              "      <td>pinnacle</td>\n",
              "      <td>outset</td>\n",
              "      <td>decline</td>\n",
              "    </tr>\n",
              "  </tbody>\n",
              "</table>\n",
              "</div>\n",
              "    <div class=\"colab-df-buttons\">\n",
              "\n",
              "  <div class=\"colab-df-container\">\n",
              "    <button class=\"colab-df-convert\" onclick=\"convertToInteractive('df-b12c2de4-b5c7-42f9-ab9a-615589b36529')\"\n",
              "            title=\"Convert this dataframe to an interactive table.\"\n",
              "            style=\"display:none;\">\n",
              "\n",
              "  <svg xmlns=\"http://www.w3.org/2000/svg\" height=\"24px\" viewBox=\"0 -960 960 960\">\n",
              "    <path d=\"M120-120v-720h720v720H120Zm60-500h600v-160H180v160Zm220 220h160v-160H400v160Zm0 220h160v-160H400v160ZM180-400h160v-160H180v160Zm440 0h160v-160H620v160ZM180-180h160v-160H180v160Zm440 0h160v-160H620v160Z\"/>\n",
              "  </svg>\n",
              "    </button>\n",
              "\n",
              "  <style>\n",
              "    .colab-df-container {\n",
              "      display:flex;\n",
              "      gap: 12px;\n",
              "    }\n",
              "\n",
              "    .colab-df-convert {\n",
              "      background-color: #E8F0FE;\n",
              "      border: none;\n",
              "      border-radius: 50%;\n",
              "      cursor: pointer;\n",
              "      display: none;\n",
              "      fill: #1967D2;\n",
              "      height: 32px;\n",
              "      padding: 0 0 0 0;\n",
              "      width: 32px;\n",
              "    }\n",
              "\n",
              "    .colab-df-convert:hover {\n",
              "      background-color: #E2EBFA;\n",
              "      box-shadow: 0px 1px 2px rgba(60, 64, 67, 0.3), 0px 1px 3px 1px rgba(60, 64, 67, 0.15);\n",
              "      fill: #174EA6;\n",
              "    }\n",
              "\n",
              "    .colab-df-buttons div {\n",
              "      margin-bottom: 4px;\n",
              "    }\n",
              "\n",
              "    [theme=dark] .colab-df-convert {\n",
              "      background-color: #3B4455;\n",
              "      fill: #D2E3FC;\n",
              "    }\n",
              "\n",
              "    [theme=dark] .colab-df-convert:hover {\n",
              "      background-color: #434B5C;\n",
              "      box-shadow: 0px 1px 3px 1px rgba(0, 0, 0, 0.15);\n",
              "      filter: drop-shadow(0px 1px 2px rgba(0, 0, 0, 0.3));\n",
              "      fill: #FFFFFF;\n",
              "    }\n",
              "  </style>\n",
              "\n",
              "    <script>\n",
              "      const buttonEl =\n",
              "        document.querySelector('#df-b12c2de4-b5c7-42f9-ab9a-615589b36529 button.colab-df-convert');\n",
              "      buttonEl.style.display =\n",
              "        google.colab.kernel.accessAllowed ? 'block' : 'none';\n",
              "\n",
              "      async function convertToInteractive(key) {\n",
              "        const element = document.querySelector('#df-b12c2de4-b5c7-42f9-ab9a-615589b36529');\n",
              "        const dataTable =\n",
              "          await google.colab.kernel.invokeFunction('convertToInteractive',\n",
              "                                                    [key], {});\n",
              "        if (!dataTable) return;\n",
              "\n",
              "        const docLinkHtml = 'Like what you see? Visit the ' +\n",
              "          '<a target=\"_blank\" href=https://colab.research.google.com/notebooks/data_table.ipynb>data table notebook</a>'\n",
              "          + ' to learn more about interactive tables.';\n",
              "        element.innerHTML = '';\n",
              "        dataTable['output_type'] = 'display_data';\n",
              "        await google.colab.output.renderOutput(dataTable, element);\n",
              "        const docLink = document.createElement('div');\n",
              "        docLink.innerHTML = docLinkHtml;\n",
              "        element.appendChild(docLink);\n",
              "      }\n",
              "    </script>\n",
              "  </div>\n",
              "\n",
              "\n",
              "<div id=\"df-8f66d100-2125-4aa9-95d5-7f46c9c06ea7\">\n",
              "  <button class=\"colab-df-quickchart\" onclick=\"quickchart('df-8f66d100-2125-4aa9-95d5-7f46c9c06ea7')\"\n",
              "            title=\"Suggest charts\"\n",
              "            style=\"display:none;\">\n",
              "\n",
              "<svg xmlns=\"http://www.w3.org/2000/svg\" height=\"24px\"viewBox=\"0 0 24 24\"\n",
              "     width=\"24px\">\n",
              "    <g>\n",
              "        <path d=\"M19 3H5c-1.1 0-2 .9-2 2v14c0 1.1.9 2 2 2h14c1.1 0 2-.9 2-2V5c0-1.1-.9-2-2-2zM9 17H7v-7h2v7zm4 0h-2V7h2v10zm4 0h-2v-4h2v4z\"/>\n",
              "    </g>\n",
              "</svg>\n",
              "  </button>\n",
              "\n",
              "<style>\n",
              "  .colab-df-quickchart {\n",
              "      --bg-color: #E8F0FE;\n",
              "      --fill-color: #1967D2;\n",
              "      --hover-bg-color: #E2EBFA;\n",
              "      --hover-fill-color: #174EA6;\n",
              "      --disabled-fill-color: #AAA;\n",
              "      --disabled-bg-color: #DDD;\n",
              "  }\n",
              "\n",
              "  [theme=dark] .colab-df-quickchart {\n",
              "      --bg-color: #3B4455;\n",
              "      --fill-color: #D2E3FC;\n",
              "      --hover-bg-color: #434B5C;\n",
              "      --hover-fill-color: #FFFFFF;\n",
              "      --disabled-bg-color: #3B4455;\n",
              "      --disabled-fill-color: #666;\n",
              "  }\n",
              "\n",
              "  .colab-df-quickchart {\n",
              "    background-color: var(--bg-color);\n",
              "    border: none;\n",
              "    border-radius: 50%;\n",
              "    cursor: pointer;\n",
              "    display: none;\n",
              "    fill: var(--fill-color);\n",
              "    height: 32px;\n",
              "    padding: 0;\n",
              "    width: 32px;\n",
              "  }\n",
              "\n",
              "  .colab-df-quickchart:hover {\n",
              "    background-color: var(--hover-bg-color);\n",
              "    box-shadow: 0 1px 2px rgba(60, 64, 67, 0.3), 0 1px 3px 1px rgba(60, 64, 67, 0.15);\n",
              "    fill: var(--button-hover-fill-color);\n",
              "  }\n",
              "\n",
              "  .colab-df-quickchart-complete:disabled,\n",
              "  .colab-df-quickchart-complete:disabled:hover {\n",
              "    background-color: var(--disabled-bg-color);\n",
              "    fill: var(--disabled-fill-color);\n",
              "    box-shadow: none;\n",
              "  }\n",
              "\n",
              "  .colab-df-spinner {\n",
              "    border: 2px solid var(--fill-color);\n",
              "    border-color: transparent;\n",
              "    border-bottom-color: var(--fill-color);\n",
              "    animation:\n",
              "      spin 1s steps(1) infinite;\n",
              "  }\n",
              "\n",
              "  @keyframes spin {\n",
              "    0% {\n",
              "      border-color: transparent;\n",
              "      border-bottom-color: var(--fill-color);\n",
              "      border-left-color: var(--fill-color);\n",
              "    }\n",
              "    20% {\n",
              "      border-color: transparent;\n",
              "      border-left-color: var(--fill-color);\n",
              "      border-top-color: var(--fill-color);\n",
              "    }\n",
              "    30% {\n",
              "      border-color: transparent;\n",
              "      border-left-color: var(--fill-color);\n",
              "      border-top-color: var(--fill-color);\n",
              "      border-right-color: var(--fill-color);\n",
              "    }\n",
              "    40% {\n",
              "      border-color: transparent;\n",
              "      border-right-color: var(--fill-color);\n",
              "      border-top-color: var(--fill-color);\n",
              "    }\n",
              "    60% {\n",
              "      border-color: transparent;\n",
              "      border-right-color: var(--fill-color);\n",
              "    }\n",
              "    80% {\n",
              "      border-color: transparent;\n",
              "      border-right-color: var(--fill-color);\n",
              "      border-bottom-color: var(--fill-color);\n",
              "    }\n",
              "    90% {\n",
              "      border-color: transparent;\n",
              "      border-bottom-color: var(--fill-color);\n",
              "    }\n",
              "  }\n",
              "</style>\n",
              "\n",
              "  <script>\n",
              "    async function quickchart(key) {\n",
              "      const quickchartButtonEl =\n",
              "        document.querySelector('#' + key + ' button');\n",
              "      quickchartButtonEl.disabled = true;  // To prevent multiple clicks.\n",
              "      quickchartButtonEl.classList.add('colab-df-spinner');\n",
              "      try {\n",
              "        const charts = await google.colab.kernel.invokeFunction(\n",
              "            'suggestCharts', [key], {});\n",
              "      } catch (error) {\n",
              "        console.error('Error during call to suggestCharts:', error);\n",
              "      }\n",
              "      quickchartButtonEl.classList.remove('colab-df-spinner');\n",
              "      quickchartButtonEl.classList.add('colab-df-quickchart-complete');\n",
              "    }\n",
              "    (() => {\n",
              "      let quickchartButtonEl =\n",
              "        document.querySelector('#df-8f66d100-2125-4aa9-95d5-7f46c9c06ea7 button');\n",
              "      quickchartButtonEl.style.display =\n",
              "        google.colab.kernel.accessAllowed ? 'block' : 'none';\n",
              "    })();\n",
              "  </script>\n",
              "</div>\n",
              "    </div>\n",
              "  </div>\n"
            ],
            "text/plain": [
              "      question        answer              0               1              2  \\\n",
              "0   enormously  tremendously  appropriately        uniquely   tremendously   \n",
              "1   provisions  stipulations   stipulations  interrelations  jurisdictions   \n",
              "2  haphazardly      randomly    dangerously         densely       randomly   \n",
              "3    prominent   conspicuous       battered         ancient     mysterious   \n",
              "4       zenith      pinnacle     completion        pinnacle         outset   \n",
              "\n",
              "                 3  \n",
              "0        decidedly  \n",
              "1  interpretations  \n",
              "2         linearly  \n",
              "3      conspicuous  \n",
              "4          decline  "
            ]
          },
          "execution_count": 40,
          "metadata": {},
          "output_type": "execute_result"
        }
      ],
      "source": [
        "# Read dataset and convert it to a numpy array for easier index referencing later on\n",
        "synonym_data = pd.read_csv('synonym.csv')\n",
        "synonym_np = synonym_data.to_numpy()\n",
        "synonym_data.head()"
      ]
    },
    {
      "cell_type": "markdown",
      "metadata": {
        "id": "A60cYQadzpFN"
      },
      "source": [
        "## wiki2018"
      ]
    },
    {
      "cell_type": "code",
      "execution_count": 44,
      "metadata": {
        "colab": {
          "base_uri": "https://localhost:8080/",
          "height": 36
        },
        "id": "xvHqX81o0ixx",
        "outputId": "bdcfbc79-4844-4178-915d-655194a777fa"
      },
      "outputs": [
        {
          "data": {
            "application/vnd.google.colaboratory.intrinsic+json": {
              "type": "string"
            },
            "text/plain": [
              "'tremendously'"
            ]
          },
          "execution_count": 44,
          "metadata": {},
          "output_type": "execute_result"
        }
      ],
      "source": [
        "wiki2018_results = np.zeros((80,4), dtype= 'U50')\n",
        "synonym_np[0,1]"
      ]
    },
    {
      "cell_type": "code",
      "execution_count": 55,
      "metadata": {
        "colab": {
          "base_uri": "https://localhost:8080/"
        },
        "id": "zv8RSY7Fq34v",
        "outputId": "9c799d2e-a25c-4b8a-8c03-8c2a03a2ac80"
      },
      "outputs": [
        {
          "name": "stdout",
          "output_type": "stream",
          "text": [
            "\"Key 'bipartisanly' not present\"\n"
          ]
        },
        {
          "data": {
            "text/plain": [
              "array([['enormously', 'tremendously', 'tremendously', 'correct'],\n",
              "       ['provisions', 'stipulations', 'stipulations', 'correct'],\n",
              "       ['haphazardly', 'randomly', 'randomly', 'correct'],\n",
              "       ['prominent', 'conspicuous', 'conspicuous', 'correct'],\n",
              "       ['zenith', 'pinnacle', 'pinnacle', 'correct'],\n",
              "       ['flawed', 'imperfect', 'imperfect', 'correct'],\n",
              "       ['urgently', 'desperately', 'desperately', 'correct'],\n",
              "       ['consumed', 'eaten', 'eaten', 'correct'],\n",
              "       ['advent', 'coming', 'coming', 'correct'],\n",
              "       ['concisely', 'succinctly', 'succinctly', 'correct'],\n",
              "       ['salutes', 'greetings', 'ceremonies', 'wrong'],\n",
              "       ['solitary', 'alone', 'restless', 'wrong'],\n",
              "       ['hasten', 'accelerate', 'accelerate', 'correct'],\n",
              "       ['perseverance', 'endurance', 'generosity', 'wrong'],\n",
              "       ['fanciful', 'imaginative', 'imaginative', 'correct'],\n",
              "       ['showed', 'demonstrated', 'demonstrated', 'correct'],\n",
              "       ['constantly', 'continually', 'continually', 'correct'],\n",
              "       ['issues', 'subjects', 'subjects', 'correct'],\n",
              "       ['furnish', 'supply', 'advise', 'wrong'],\n",
              "       ['costly', 'expensive', 'expensive', 'correct'],\n",
              "       ['recognized', 'acknowledged', 'acknowledged', 'correct'],\n",
              "       ['spot', 'location', 'location', 'correct'],\n",
              "       ['make', 'earn', 'earn', 'correct'],\n",
              "       ['often', 'frequently', 'frequently', 'correct'],\n",
              "       ['easygoing', 'relaxed', 'relaxed', 'correct'],\n",
              "       ['debate', 'argument', 'argument', 'correct'],\n",
              "       ['narrow', 'thin', 'thin', 'correct'],\n",
              "       ['arranged', 'planned', 'planned', 'correct'],\n",
              "       ['infinite', 'limitless', 'limitless', 'correct'],\n",
              "       ['showy', 'striking', 'prickly', 'wrong'],\n",
              "       ['levied', 'imposed', 'imposed', 'correct'],\n",
              "       ['deftly', 'skillfully', 'skillfully', 'correct'],\n",
              "       ['distribute', 'circulate', 'circulate', 'correct'],\n",
              "       ['discrepancies', 'differences', 'differences', 'correct'],\n",
              "       ['prolific', 'productive', 'productive', 'correct'],\n",
              "       ['unmatched', 'unequaled', 'unequaled', 'correct'],\n",
              "       ['peculiarly', 'uniquely', 'uniquely', 'correct'],\n",
              "       ['hue', 'color', 'color', 'correct'],\n",
              "       ['hind', 'rear', 'hairy', 'wrong'],\n",
              "       ['highlight', 'accentuate', 'accentuate', 'correct'],\n",
              "       ['hastily', 'hurriedly', 'hurriedly', 'correct'],\n",
              "       ['temperate', 'mild', 'mild', 'correct'],\n",
              "       ['grin', 'smile', 'smile', 'correct'],\n",
              "       ['verbally', 'orally', 'verbosely', 'wrong'],\n",
              "       ['physician', 'doctor', 'pharmacist', 'wrong'],\n",
              "       ['essentially', 'basically', 'basically', 'correct'],\n",
              "       ['keen', 'sharp', 'sharp', 'correct'],\n",
              "       ['situated', 'positioned', 'positioned', 'correct'],\n",
              "       ['principal', 'major', 'major', 'correct'],\n",
              "       ['slowly', 'gradually', 'gradually', 'correct'],\n",
              "       ['built', 'constructed', 'constructed', 'correct'],\n",
              "       ['tasks', 'jobs', 'jobs', 'correct'],\n",
              "       ['unlikely', 'improbable', 'improbable', 'correct'],\n",
              "       ['halfheartedly', 'apathetically', 'bipartisanly', 'wrong'],\n",
              "       ['annals', 'chronicles', 'chronicles', 'correct'],\n",
              "       ['wildly', 'furiously', 'furiously', 'correct'],\n",
              "       ['hailed', 'acclaimed', 'remembered', 'wrong'],\n",
              "       ['command', 'mastery', 'observation', 'wrong'],\n",
              "       ['concocted', 'devised', 'devised', 'correct'],\n",
              "       ['prospective', 'potential', 'potential', 'correct'],\n",
              "       ['generally', 'broadly', 'broadly', 'correct'],\n",
              "       ['sustained', 'prolonged', 'prolonged', 'correct'],\n",
              "       ['perilous', 'dangerous', 'dangerous', 'correct'],\n",
              "       ['tranquillity', 'peacefulness', 'peacefulness', 'correct'],\n",
              "       ['dissipate', 'disperse', 'disperse', 'correct'],\n",
              "       ['primarily', 'chiefly', 'chiefly', 'correct'],\n",
              "       ['colloquial', 'conversational', 'conversational', 'correct'],\n",
              "       ['resolved', 'settled', 'examined', 'wrong'],\n",
              "       ['feasible', 'possible', 'possible', 'correct'],\n",
              "       ['expeditiously', 'rapidly', 'actually', 'wrong'],\n",
              "       ['percentage', 'proportion', 'proportion', 'correct'],\n",
              "       ['terminated', 'ended', 'ended', 'correct'],\n",
              "       ['uniform', 'alike', 'hard', 'wrong'],\n",
              "       ['figure', 'solve', 'solve', 'correct'],\n",
              "       ['sufficient', 'enough', 'enough', 'correct'],\n",
              "       ['fashion', 'manner', 'craze', 'wrong'],\n",
              "       ['marketed', 'sold', 'sold', 'correct'],\n",
              "       ['bigger', 'larger', 'larger', 'correct'],\n",
              "       ['roots', 'origins', 'origins', 'correct'],\n",
              "       ['normally', 'ordinarily', 'ordinarily', 'correct']], dtype='<U50')"
            ]
          },
          "execution_count": 55,
          "metadata": {},
          "output_type": "execute_result"
        }
      ],
      "source": [
        "# iterate over question to get words\n",
        "c = 0\n",
        "v = 80\n",
        "for i in range(0,80):\n",
        "  wiki2018_results[i,1] = synonym_np[i,1]\n",
        "for i in range(0,80):\n",
        "  wiki2018_results[i,0] = synonym_np[i,0]\n",
        "  try:\n",
        "    cossim_list = []\n",
        "    for j in range(2,6):\n",
        "      try:\n",
        "        cossim_list.append(wiki2018.similarity(synonym_np[i,0], synonym_np[i,j]))\n",
        "      except Exception as e:\n",
        "            print(e)\n",
        "    #cossim_list = [wiki2018.similarity(synonym_np[i,0], synonym_np[i,2]),wiki2018.similarity(synonym_np[i,0], synonym_np[i,3]),wiki2018.similarity(synonym_np[i,0], synonym_np[i,4]),wiki2018.similarity(synonym_np[i,0], synonym_np[i,5])]\n",
        "\n",
        "    guess_value = max(cossim_list)\n",
        "    guess_index = cossim_list.index(guess_value)\n",
        "    guess = synonym_np[i,guess_index+2]\n",
        "    wiki2018_results[i,1] = synonym_np[i,1]\n",
        "    if guess == synonym_np[i,1]:\n",
        "      wiki2018_results[i,3] = 'correct'\n",
        "      wiki2018_results[i,2] = guess\n",
        "      c +=1\n",
        "    else:\n",
        "      wiki2018_results[i,3] = 'wrong'\n",
        "      wiki2018_results[i,2] = guess\n",
        "  except Exception as e:\n",
        "    print(e)\n",
        "    v -= 1\n",
        "\n",
        "wiki2018_results"
      ]
    },
    {
      "cell_type": "code",
      "execution_count": 54,
      "metadata": {
        "id": "TNVYfbvvBbeh"
      },
      "outputs": [],
      "source": [
        "np.savetxt(\"word2vec-enwiki-2018-100-details.csv\", wiki2018_results, delimiter=\",\",fmt='%s')\n",
        "size = len(wiki2018)\n",
        "model_info = ['word2vec-enwiki-2018-100', size, c, v, c/v]\n",
        "with open('analysis.csv', 'a', newline='') as f:\n",
        "  writer = csv.writer(f)\n",
        "  writer.writerow(model_info)\n"
      ]
    },
    {
      "cell_type": "markdown",
      "metadata": {
        "id": "vG-eNAhzPx11"
      },
      "source": [
        "## wiki_gigaword"
      ]
    },
    {
      "cell_type": "code",
      "execution_count": 57,
      "metadata": {
        "colab": {
          "base_uri": "https://localhost:8080/"
        },
        "id": "3tPw-k15QLOq",
        "outputId": "1f26e92e-a510-4006-89c3-f9a1f76a627d"
      },
      "outputs": [
        {
          "name": "stdout",
          "output_type": "stream",
          "text": [
            "\"Key 'verbosely' not present\"\n",
            "\"Key 'bipartisanly' not present\"\n",
            "\"Key 'apathetically' not present\"\n"
          ]
        },
        {
          "data": {
            "text/plain": [
              "array([['enormously', 'tremendously', 'tremendously', 'correct'],\n",
              "       ['provisions', 'stipulations', 'stipulations', 'correct'],\n",
              "       ['haphazardly', 'randomly', 'randomly', 'correct'],\n",
              "       ['prominent', 'conspicuous', 'ancient', 'wrong'],\n",
              "       ['zenith', 'pinnacle', 'pinnacle', 'correct'],\n",
              "       ['flawed', 'imperfect', 'imperfect', 'correct'],\n",
              "       ['urgently', 'desperately', 'desperately', 'correct'],\n",
              "       ['consumed', 'eaten', 'eaten', 'correct'],\n",
              "       ['advent', 'coming', 'coming', 'correct'],\n",
              "       ['concisely', 'succinctly', 'succinctly', 'correct'],\n",
              "       ['salutes', 'greetings', 'greetings', 'correct'],\n",
              "       ['solitary', 'alone', 'restless', 'wrong'],\n",
              "       ['hasten', 'accelerate', 'accelerate', 'correct'],\n",
              "       ['perseverance', 'endurance', 'generosity', 'wrong'],\n",
              "       ['fanciful', 'imaginative', 'imaginative', 'correct'],\n",
              "       ['showed', 'demonstrated', 'demonstrated', 'correct'],\n",
              "       ['constantly', 'continually', 'continually', 'correct'],\n",
              "       ['issues', 'subjects', 'subjects', 'correct'],\n",
              "       ['furnish', 'supply', 'advise', 'wrong'],\n",
              "       ['costly', 'expensive', 'expensive', 'correct'],\n",
              "       ['recognized', 'acknowledged', 'successful', 'wrong'],\n",
              "       ['spot', 'location', 'location', 'correct'],\n",
              "       ['make', 'earn', 'earn', 'correct'],\n",
              "       ['often', 'frequently', 'frequently', 'correct'],\n",
              "       ['easygoing', 'relaxed', 'relaxed', 'correct'],\n",
              "       ['debate', 'argument', 'argument', 'correct'],\n",
              "       ['narrow', 'thin', 'thin', 'correct'],\n",
              "       ['arranged', 'planned', 'planned', 'correct'],\n",
              "       ['infinite', 'limitless', 'limitless', 'correct'],\n",
              "       ['showy', 'striking', 'prickly', 'wrong'],\n",
              "       ['levied', 'imposed', 'imposed', 'correct'],\n",
              "       ['deftly', 'skillfully', 'skillfully', 'correct'],\n",
              "       ['distribute', 'circulate', 'commercialize', 'wrong'],\n",
              "       ['discrepancies', 'differences', 'differences', 'correct'],\n",
              "       ['prolific', 'productive', 'productive', 'correct'],\n",
              "       ['unmatched', 'unequaled', 'unequaled', 'correct'],\n",
              "       ['peculiarly', 'uniquely', 'uniquely', 'correct'],\n",
              "       ['hue', 'color', 'color', 'correct'],\n",
              "       ['hind', 'rear', 'hairy', 'wrong'],\n",
              "       ['highlight', 'accentuate', 'accentuate', 'correct'],\n",
              "       ['hastily', 'hurriedly', 'hurriedly', 'correct'],\n",
              "       ['temperate', 'mild', 'mild', 'correct'],\n",
              "       ['grin', 'smile', 'smile', 'correct'],\n",
              "       ['verbally', 'orally', 'orally', 'correct'],\n",
              "       ['physician', 'doctor', 'doctor', 'correct'],\n",
              "       ['essentially', 'basically', 'basically', 'correct'],\n",
              "       ['keen', 'sharp', 'useful', 'wrong'],\n",
              "       ['situated', 'positioned', 'positioned', 'correct'],\n",
              "       ['principal', 'major', 'major', 'correct'],\n",
              "       ['slowly', 'gradually', 'gradually', 'correct'],\n",
              "       ['built', 'constructed', 'constructed', 'correct'],\n",
              "       ['tasks', 'jobs', 'jobs', 'correct'],\n",
              "       ['unlikely', 'improbable', 'improbable', 'correct'],\n",
              "       ['halfheartedly', 'apathetically', 'bipartisanly', 'wrong'],\n",
              "       ['annals', 'chronicles', 'chronicles', 'correct'],\n",
              "       ['wildly', 'furiously', 'furiously', 'correct'],\n",
              "       ['hailed', 'acclaimed', 'remembered', 'wrong'],\n",
              "       ['command', 'mastery', 'observation', 'wrong'],\n",
              "       ['concocted', 'devised', 'devised', 'correct'],\n",
              "       ['prospective', 'potential', 'potential', 'correct'],\n",
              "       ['generally', 'broadly', 'broadly', 'correct'],\n",
              "       ['sustained', 'prolonged', 'prolonged', 'correct'],\n",
              "       ['perilous', 'dangerous', 'dangerous', 'correct'],\n",
              "       ['tranquillity', 'peacefulness', 'peacefulness', 'correct'],\n",
              "       ['dissipate', 'disperse', 'disperse', 'correct'],\n",
              "       ['primarily', 'chiefly', 'chiefly', 'correct'],\n",
              "       ['colloquial', 'conversational', 'conversational', 'correct'],\n",
              "       ['resolved', 'settled', 'settled', 'correct'],\n",
              "       ['feasible', 'possible', 'possible', 'correct'],\n",
              "       ['expeditiously', 'rapidly', 'rapidly', 'correct'],\n",
              "       ['percentage', 'proportion', 'proportion', 'correct'],\n",
              "       ['terminated', 'ended', 'postponed', 'wrong'],\n",
              "       ['uniform', 'alike', 'complex', 'wrong'],\n",
              "       ['figure', 'solve', 'list', 'wrong'],\n",
              "       ['sufficient', 'enough', 'enough', 'correct'],\n",
              "       ['fashion', 'manner', 'manner', 'correct'],\n",
              "       ['marketed', 'sold', 'sold', 'correct'],\n",
              "       ['bigger', 'larger', 'larger', 'correct'],\n",
              "       ['roots', 'origins', 'origins', 'correct'],\n",
              "       ['normally', 'ordinarily', 'ordinarily', 'correct']], dtype='<U50')"
            ]
          },
          "execution_count": 57,
          "metadata": {},
          "output_type": "execute_result"
        }
      ],
      "source": [
        "# iterate over question to get words\n",
        "wiki_giga_results = np.zeros((80,4), dtype= 'U50')\n",
        "c = 0\n",
        "v = 80\n",
        "for i in range(0,80):\n",
        "  wiki_giga_results[i,1] = synonym_np[i,1]\n",
        "for i in range(0,80):\n",
        "  wiki_giga_results[i,0] = synonym_np[i,0]\n",
        "  try:\n",
        "    cossim_list = []\n",
        "    for j in range(2,6):\n",
        "      try:\n",
        "        cossim_list.append(wiki_gigaword.similarity(synonym_np[i,0], synonym_np[i,j]))\n",
        "      except Exception as e:\n",
        "            print(e)\n",
        "\n",
        "    guess_value = max(cossim_list)\n",
        "    guess_index = cossim_list.index(guess_value)\n",
        "    guess = synonym_np[i,guess_index+2]\n",
        "    wiki_giga_results[i,1] = synonym_np[i,1]\n",
        "    if guess == synonym_np[i,1]:\n",
        "      wiki_giga_results[i,3] = 'correct'\n",
        "      wiki_giga_results[i,2] = guess\n",
        "      c +=1\n",
        "    else:\n",
        "      wiki_giga_results[i,3] = 'wrong'\n",
        "      wiki_giga_results[i,2] = guess\n",
        "  except Exception as e:\n",
        "    print(e)\n",
        "    v -= 1\n",
        "\n",
        "wiki_giga_results"
      ]
    },
    {
      "cell_type": "code",
      "execution_count": 58,
      "metadata": {
        "id": "-zmy3Pg3Q5Im"
      },
      "outputs": [],
      "source": [
        "np.savetxt(\"glove-wiki-gigaword-100-details.csv\", wiki_giga_results, delimiter=\",\",fmt='%s')\n",
        "size = len(wiki_gigaword)\n",
        "model_info = ['glove-wiki-gigaword-100', size, c, v, c/v]\n",
        "with open('analysis.csv', 'a', newline='') as f:\n",
        "  writer = csv.writer(f)\n",
        "  writer.writerow(model_info)"
      ]
    },
    {
      "cell_type": "markdown",
      "metadata": {
        "id": "jwy2TNDqQD7P"
      },
      "source": [
        "## twitter_25"
      ]
    },
    {
      "cell_type": "code",
      "execution_count": 71,
      "metadata": {
        "colab": {
          "base_uri": "https://localhost:8080/"
        },
        "id": "AO5cm28HRtap",
        "outputId": "b5857b2e-8799-441e-e823-ec4a7c344186"
      },
      "outputs": [
        {
          "name": "stdout",
          "output_type": "stream",
          "text": [
            "\"Key 'interrelations' not present\"\n",
            "\"Key 'linearly' not present\"\n",
            "\"Key 'prudently' not present\"\n",
            "\"Key 'unequaled' not present\"\n",
            "\"Key 'peculiarly' not present\"\n",
            "\"Key 'peculiarly' not present\"\n",
            "\"Key 'peculiarly' not present\"\n",
            "\"Key 'peculiarly' not present\"\n",
            "max() arg is an empty sequence\n",
            "\"Key 'shrewdly' not present\"\n",
            "\"Key 'verbosely' not present\"\n",
            "\"Key 'halfheartedly' not present\"\n",
            "\"Key 'halfheartedly' not present\"\n",
            "\"Key 'halfheartedly' not present\"\n",
            "\"Key 'halfheartedly' not present\"\n",
            "max() arg is an empty sequence\n",
            "\"Key 'descriptively' not present\"\n",
            "\"Key 'steadier' not present\"\n",
            "\"Key 'haltingly' not present\"\n"
          ]
        },
        {
          "data": {
            "text/plain": [
              "array([['enormously', 'tremendously', 'tremendously', 'correct'],\n",
              "       ['provisions', 'stipulations', 'interrelations', 'wrong'],\n",
              "       ['haphazardly', 'randomly', 'densely', 'wrong'],\n",
              "       ['prominent', 'conspicuous', 'ancient', 'wrong'],\n",
              "       ['zenith', 'pinnacle', 'pinnacle', 'correct'],\n",
              "       ['flawed', 'imperfect', 'imperfect', 'correct'],\n",
              "       ['urgently', 'desperately', 'desperately', 'correct'],\n",
              "       ['consumed', 'eaten', 'eaten', 'correct'],\n",
              "       ['advent', 'coming', 'coming', 'correct'],\n",
              "       ['concisely', 'succinctly', 'succinctly', 'correct'],\n",
              "       ['salutes', 'greetings', 'greetings', 'correct'],\n",
              "       ['solitary', 'alone', 'fearless', 'wrong'],\n",
              "       ['hasten', 'accelerate', 'accelerate', 'correct'],\n",
              "       ['perseverance', 'endurance', 'generosity', 'wrong'],\n",
              "       ['fanciful', 'imaginative', 'imaginative', 'correct'],\n",
              "       ['showed', 'demonstrated', 'repeated', 'wrong'],\n",
              "       ['constantly', 'continually', 'instantly', 'wrong'],\n",
              "       ['issues', 'subjects', 'benefits', 'wrong'],\n",
              "       ['furnish', 'supply', 'advise', 'wrong'],\n",
              "       ['costly', 'expensive', 'expensive', 'correct'],\n",
              "       ['recognized', 'acknowledged', 'acknowledged', 'correct'],\n",
              "       ['spot', 'location', 'location', 'correct'],\n",
              "       ['make', 'earn', 'borrow', 'wrong'],\n",
              "       ['often', 'frequently', 'hardly', 'wrong'],\n",
              "       ['easygoing', 'relaxed', 'relaxed', 'correct'],\n",
              "       ['debate', 'argument', 'election', 'wrong'],\n",
              "       ['narrow', 'thin', 'clear', 'wrong'],\n",
              "       ['arranged', 'planned', 'discarded', 'wrong'],\n",
              "       ['infinite', 'limitless', 'limitless', 'correct'],\n",
              "       ['showy', 'striking', 'incidental', 'wrong'],\n",
              "       ['levied', 'imposed', 'imposed', 'correct'],\n",
              "       ['deftly', 'skillfully', 'skillfully', 'correct'],\n",
              "       ['distribute', 'circulate', 'commercialize', 'wrong'],\n",
              "       ['discrepancies', 'differences', 'deposits', 'wrong'],\n",
              "       ['prolific', 'productive', 'promising', 'wrong'],\n",
              "       ['unmatched', 'unequaled', 'unrecognized', 'wrong'],\n",
              "       ['peculiarly', 'uniquely', 'patriotically', 'guess'],\n",
              "       ['hue', 'color', 'contrast', 'wrong'],\n",
              "       ['hind', 'rear', 'rear', 'correct'],\n",
              "       ['highlight', 'accentuate', 'alter', 'wrong'],\n",
              "       ['hastily', 'hurriedly', 'hurriedly', 'correct'],\n",
              "       ['temperate', 'mild', 'mild', 'correct'],\n",
              "       ['grin', 'smile', 'smile', 'correct'],\n",
              "       ['verbally', 'orally', 'orally', 'correct'],\n",
              "       ['physician', 'doctor', 'nurse', 'wrong'],\n",
              "       ['essentially', 'basically', 'basically', 'correct'],\n",
              "       ['keen', 'sharp', 'useful', 'wrong'],\n",
              "       ['situated', 'positioned', 'positioned', 'correct'],\n",
              "       ['principal', 'major', 'major', 'correct'],\n",
              "       ['slowly', 'gradually', 'gradually', 'correct'],\n",
              "       ['built', 'constructed', 'organized', 'wrong'],\n",
              "       ['tasks', 'jobs', 'materials', 'wrong'],\n",
              "       ['unlikely', 'improbable', 'improbable', 'correct'],\n",
              "       ['halfheartedly', 'apathetically', 'bipartisanly', 'guess'],\n",
              "       ['annals', 'chronicles', 'chronicles', 'correct'],\n",
              "       ['wildly', 'furiously', 'distinctively', 'wrong'],\n",
              "       ['hailed', 'acclaimed', 'addressed', 'wrong'],\n",
              "       ['command', 'mastery', 'mastery', 'correct'],\n",
              "       ['concocted', 'devised', 'devised', 'correct'],\n",
              "       ['prospective', 'potential', 'prominent', 'wrong'],\n",
              "       ['generally', 'broadly', 'controversially', 'wrong'],\n",
              "       ['sustained', 'prolonged', 'prolonged', 'correct'],\n",
              "       ['perilous', 'dangerous', 'binding', 'wrong'],\n",
              "       ['tranquillity', 'peacefulness', 'weariness', 'wrong'],\n",
              "       ['dissipate', 'disperse', 'isolate', 'wrong'],\n",
              "       ['primarily', 'chiefly', 'chiefly', 'correct'],\n",
              "       ['colloquial', 'conversational', 'conversational', 'correct'],\n",
              "       ['resolved', 'settled', 'settled', 'correct'],\n",
              "       ['feasible', 'possible', 'evident', 'wrong'],\n",
              "       ['expeditiously', 'rapidly', 'repeatedly', 'wrong'],\n",
              "       ['percentage', 'proportion', 'profit', 'wrong'],\n",
              "       ['terminated', 'ended', 'evaluated', 'wrong'],\n",
              "       ['uniform', 'alike', 'hard', 'wrong'],\n",
              "       ['figure', 'solve', 'list', 'wrong'],\n",
              "       ['sufficient', 'enough', 'valuable', 'wrong'],\n",
              "       ['fashion', 'manner', 'manner', 'correct'],\n",
              "       ['marketed', 'sold', 'diluted', 'wrong'],\n",
              "       ['bigger', 'larger', 'larger', 'correct'],\n",
              "       ['roots', 'origins', 'origins', 'correct'],\n",
              "       ['normally', 'ordinarily', 'ordinarily', 'correct']], dtype='<U50')"
            ]
          },
          "execution_count": 71,
          "metadata": {},
          "output_type": "execute_result"
        }
      ],
      "source": [
        "# iterate over question to get words\n",
        "twitter25_results = np.zeros((80,4), dtype= 'U50')\n",
        "c = 0\n",
        "v = 80\n",
        "for i in range(0,80):\n",
        "  twitter25_results[i,1] = synonym_np[i,1]\n",
        "for i in range(0,80):\n",
        "  twitter25_results[i,0] = synonym_np[i,0]\n",
        "  try:\n",
        "    cossim_list = []\n",
        "    for j in range(2,6):\n",
        "      try:\n",
        "        cossim_list.append(twitter_25.similarity(synonym_np[i,0], synonym_np[i,j]))\n",
        "      except Exception as e:\n",
        "            print(e)\n",
        "\n",
        "    guess_value = max(cossim_list)\n",
        "    guess_index = cossim_list.index(guess_value)\n",
        "    guess = synonym_np[i,guess_index+2]\n",
        "    twitter25_results[i,1] = synonym_np[i,1]\n",
        "    if guess == synonym_np[i,1]:\n",
        "      twitter25_results[i,3] = 'correct'\n",
        "      twitter25_results[i,2] = guess\n",
        "      c +=1\n",
        "    else:\n",
        "      twitter25_results[i,3] = 'wrong'\n",
        "      twitter25_results[i,2] = guess\n",
        "  except Exception as e:\n",
        "    print(e)\n",
        "    randi = random.randint(2, 5)\n",
        "    twitter25_results[i,2] = synonym_np[i,randi]\n",
        "    twitter25_results[i,3] = 'guess'\n",
        "    v -= 1\n",
        "\n",
        "twitter25_results"
      ]
    },
    {
      "cell_type": "code",
      "execution_count": 72,
      "metadata": {
        "id": "9xgE5fx_TKpq"
      },
      "outputs": [],
      "source": [
        "np.savetxt('twitter-25-details.csv', twitter25_results, delimiter=\",\",fmt='%s')\n",
        "size = len(twitter_25)\n",
        "model_info = ['glove-twitter-25', size, c, v, c/v]\n",
        "with open('analysis.csv', 'a', newline='') as f:\n",
        "  writer = csv.writer(f)\n",
        "  writer.writerow(model_info)"
      ]
    },
    {
      "cell_type": "markdown",
      "metadata": {
        "id": "1Np1Q5wWQFQV"
      },
      "source": [
        "## twitter_50"
      ]
    },
    {
      "cell_type": "code",
      "execution_count": 73,
      "metadata": {
        "colab": {
          "base_uri": "https://localhost:8080/"
        },
        "id": "pMl7hymESxT2",
        "outputId": "d6dcd25a-8b98-4de9-94b0-3b4d5ab24a22"
      },
      "outputs": [
        {
          "name": "stdout",
          "output_type": "stream",
          "text": [
            "\"Key 'interrelations' not present\"\n",
            "\"Key 'linearly' not present\"\n",
            "\"Key 'prudently' not present\"\n",
            "\"Key 'unequaled' not present\"\n",
            "\"Key 'peculiarly' not present\"\n",
            "\"Key 'peculiarly' not present\"\n",
            "\"Key 'peculiarly' not present\"\n",
            "\"Key 'peculiarly' not present\"\n",
            "max() arg is an empty sequence\n",
            "\"Key 'shrewdly' not present\"\n",
            "\"Key 'verbosely' not present\"\n",
            "\"Key 'halfheartedly' not present\"\n",
            "\"Key 'halfheartedly' not present\"\n",
            "\"Key 'halfheartedly' not present\"\n",
            "\"Key 'halfheartedly' not present\"\n",
            "max() arg is an empty sequence\n",
            "\"Key 'descriptively' not present\"\n",
            "\"Key 'steadier' not present\"\n",
            "\"Key 'haltingly' not present\"\n"
          ]
        },
        {
          "data": {
            "text/plain": [
              "array([['enormously', 'tremendously', 'tremendously', 'correct'],\n",
              "       ['provisions', 'stipulations', 'interrelations', 'wrong'],\n",
              "       ['haphazardly', 'randomly', 'densely', 'wrong'],\n",
              "       ['prominent', 'conspicuous', 'battered', 'wrong'],\n",
              "       ['zenith', 'pinnacle', 'pinnacle', 'correct'],\n",
              "       ['flawed', 'imperfect', 'imperfect', 'correct'],\n",
              "       ['urgently', 'desperately', 'desperately', 'correct'],\n",
              "       ['consumed', 'eaten', 'eaten', 'correct'],\n",
              "       ['advent', 'coming', 'coming', 'correct'],\n",
              "       ['concisely', 'succinctly', 'succinctly', 'correct'],\n",
              "       ['salutes', 'greetings', 'ceremonies', 'wrong'],\n",
              "       ['solitary', 'alone', 'restless', 'wrong'],\n",
              "       ['hasten', 'accelerate', 'accelerate', 'correct'],\n",
              "       ['perseverance', 'endurance', 'endurance', 'correct'],\n",
              "       ['fanciful', 'imaginative', 'imaginative', 'correct'],\n",
              "       ['showed', 'demonstrated', 'repeated', 'wrong'],\n",
              "       ['constantly', 'continually', 'instantly', 'wrong'],\n",
              "       ['issues', 'subjects', 'benefits', 'wrong'],\n",
              "       ['furnish', 'supply', 'advise', 'wrong'],\n",
              "       ['costly', 'expensive', 'expensive', 'correct'],\n",
              "       ['recognized', 'acknowledged', 'acknowledged', 'correct'],\n",
              "       ['spot', 'location', 'location', 'correct'],\n",
              "       ['make', 'earn', 'trade', 'wrong'],\n",
              "       ['often', 'frequently', 'hardly', 'wrong'],\n",
              "       ['easygoing', 'relaxed', 'relaxed', 'correct'],\n",
              "       ['debate', 'argument', 'election', 'wrong'],\n",
              "       ['narrow', 'thin', 'clear', 'wrong'],\n",
              "       ['arranged', 'planned', 'planned', 'correct'],\n",
              "       ['infinite', 'limitless', 'relative', 'wrong'],\n",
              "       ['showy', 'striking', 'prickly', 'wrong'],\n",
              "       ['levied', 'imposed', 'imposed', 'correct'],\n",
              "       ['deftly', 'skillfully', 'occasionally', 'wrong'],\n",
              "       ['distribute', 'circulate', 'commercialize', 'wrong'],\n",
              "       ['discrepancies', 'differences', 'deposits', 'wrong'],\n",
              "       ['prolific', 'productive', 'promising', 'wrong'],\n",
              "       ['unmatched', 'unequaled', 'unrecognized', 'wrong'],\n",
              "       ['peculiarly', 'uniquely', 'suspiciously', 'guess'],\n",
              "       ['hue', 'color', 'color', 'correct'],\n",
              "       ['hind', 'rear', 'rear', 'correct'],\n",
              "       ['highlight', 'accentuate', 'alter', 'wrong'],\n",
              "       ['hastily', 'hurriedly', 'hurriedly', 'correct'],\n",
              "       ['temperate', 'mild', 'mild', 'correct'],\n",
              "       ['grin', 'smile', 'smile', 'correct'],\n",
              "       ['verbally', 'orally', 'overtly', 'wrong'],\n",
              "       ['physician', 'doctor', 'nurse', 'wrong'],\n",
              "       ['essentially', 'basically', 'basically', 'correct'],\n",
              "       ['keen', 'sharp', 'sharp', 'correct'],\n",
              "       ['situated', 'positioned', 'positioned', 'correct'],\n",
              "       ['principal', 'major', 'major', 'correct'],\n",
              "       ['slowly', 'gradually', 'gradually', 'correct'],\n",
              "       ['built', 'constructed', 'organized', 'wrong'],\n",
              "       ['tasks', 'jobs', 'materials', 'wrong'],\n",
              "       ['unlikely', 'improbable', 'improbable', 'correct'],\n",
              "       ['halfheartedly', 'apathetically', 'apathetically', 'guess'],\n",
              "       ['annals', 'chronicles', 'trails', 'wrong'],\n",
              "       ['wildly', 'furiously', 'furiously', 'correct'],\n",
              "       ['hailed', 'acclaimed', 'addressed', 'wrong'],\n",
              "       ['command', 'mastery', 'observation', 'wrong'],\n",
              "       ['concocted', 'devised', 'devised', 'correct'],\n",
              "       ['prospective', 'potential', 'prominent', 'wrong'],\n",
              "       ['generally', 'broadly', 'controversially', 'wrong'],\n",
              "       ['sustained', 'prolonged', 'prolonged', 'correct'],\n",
              "       ['perilous', 'dangerous', 'binding', 'wrong'],\n",
              "       ['tranquillity', 'peacefulness', 'peacefulness', 'correct'],\n",
              "       ['dissipate', 'disperse', 'disperse', 'correct'],\n",
              "       ['primarily', 'chiefly', 'chiefly', 'correct'],\n",
              "       ['colloquial', 'conversational', 'conversational', 'correct'],\n",
              "       ['resolved', 'settled', 'settled', 'correct'],\n",
              "       ['feasible', 'possible', 'permitted', 'wrong'],\n",
              "       ['expeditiously', 'rapidly', 'repeatedly', 'wrong'],\n",
              "       ['percentage', 'proportion', 'profit', 'wrong'],\n",
              "       ['terminated', 'ended', 'evaluated', 'wrong'],\n",
              "       ['uniform', 'alike', 'hard', 'wrong'],\n",
              "       ['figure', 'solve', 'list', 'wrong'],\n",
              "       ['sufficient', 'enough', 'valuable', 'wrong'],\n",
              "       ['fashion', 'manner', 'craze', 'wrong'],\n",
              "       ['marketed', 'sold', 'diluted', 'wrong'],\n",
              "       ['bigger', 'larger', 'steadier', 'wrong'],\n",
              "       ['roots', 'origins', 'origins', 'correct'],\n",
              "       ['normally', 'ordinarily', 'ordinarily', 'correct']], dtype='<U50')"
            ]
          },
          "execution_count": 73,
          "metadata": {},
          "output_type": "execute_result"
        }
      ],
      "source": [
        "# iterate over question to get words\n",
        "twitter50_results = np.zeros((80,4), dtype= 'U50')\n",
        "c = 0\n",
        "v = 80\n",
        "for i in range(0,80):\n",
        "  twitter50_results[i,1] = synonym_np[i,1]\n",
        "for i in range(0,80):\n",
        "  twitter50_results[i,0] = synonym_np[i,0]\n",
        "  try:\n",
        "    cossim_list = []\n",
        "    for j in range(2,6):\n",
        "      try:\n",
        "        cossim_list.append(twitter_50.similarity(synonym_np[i,0], synonym_np[i,j]))\n",
        "      except Exception as e:\n",
        "            print(e)\n",
        "\n",
        "    guess_value = max(cossim_list)\n",
        "    guess_index = cossim_list.index(guess_value)\n",
        "    guess = synonym_np[i,guess_index+2]\n",
        "    twitter50_results[i,1] = synonym_np[i,1]\n",
        "    if guess == synonym_np[i,1]:\n",
        "      twitter50_results[i,3] = 'correct'\n",
        "      twitter50_results[i,2] = guess\n",
        "      c +=1\n",
        "    else:\n",
        "      twitter50_results[i,3] = 'wrong'\n",
        "      twitter50_results[i,2] = guess\n",
        "  except Exception as e:\n",
        "    print(e)\n",
        "    randi = random.randint(2, 5)\n",
        "    twitter50_results[i,2] = synonym_np[i,randi]\n",
        "    twitter50_results[i,3] = 'guess'\n",
        "    v -= 1\n",
        "\n",
        "twitter50_results"
      ]
    },
    {
      "cell_type": "code",
      "execution_count": 74,
      "metadata": {
        "id": "Tqp5ZxMbWLIU"
      },
      "outputs": [],
      "source": [
        "np.savetxt('twitter-50-details.csv', twitter50_results, delimiter=\",\",fmt='%s')\n",
        "size = len(twitter_50)\n",
        "model_info = ['glove-twitter-50', size, c, v, c/v]\n",
        "with open('analysis.csv', 'a', newline='') as f:\n",
        "  writer = csv.writer(f)\n",
        "  writer.writerow(model_info)"
      ]
    },
    {
      "cell_type": "markdown",
      "metadata": {
        "id": "uPvAQi74OGyQ"
      },
      "source": [
        "# TASK 3: Training Own Models"
      ]
    },
    {
      "cell_type": "code",
      "execution_count": null,
      "metadata": {
        "colab": {
          "base_uri": "https://localhost:8080/",
          "height": 285
        },
        "id": "V-a4CnSxV6mE",
        "outputId": "53f7fbe9-3b6a-49e7-df8b-21869c08eca5"
      },
      "outputs": [
        {
          "name": "stderr",
          "output_type": "stream",
          "text": [
            "[nltk_data] Downloading package punkt to /root/nltk_data...\n",
            "[nltk_data]   Unzipping tokenizers/punkt.zip.\n"
          ]
        },
        {
          "ename": "FileNotFoundError",
          "evalue": "ignored",
          "output_type": "error",
          "traceback": [
            "\u001b[0;31m---------------------------------------------------------------------------\u001b[0m",
            "\u001b[0;31mFileNotFoundError\u001b[0m                         Traceback (most recent call last)",
            "\u001b[0;32m<ipython-input-9-63dc7ba2fe5b>\u001b[0m in \u001b[0;36m<cell line: 19>\u001b[0;34m()\u001b[0m\n\u001b[1;32m     17\u001b[0m \u001b[0;34m\u001b[0m\u001b[0m\n\u001b[1;32m     18\u001b[0m \u001b[0;31m#nltk.download('twitter_samples')\u001b[0m\u001b[0;34m\u001b[0m\u001b[0;34m\u001b[0m\u001b[0m\n\u001b[0;32m---> 19\u001b[0;31m \u001b[0msample\u001b[0m \u001b[0;34m=\u001b[0m \u001b[0mopen\u001b[0m\u001b[0;34m(\u001b[0m\u001b[0;34m\"/content/books/testfile.txt\"\u001b[0m\u001b[0;34m)\u001b[0m\u001b[0;34m\u001b[0m\u001b[0;34m\u001b[0m\u001b[0m\n\u001b[0m\u001b[1;32m     20\u001b[0m \u001b[0mbooktext\u001b[0m \u001b[0;34m=\u001b[0m \u001b[0msample\u001b[0m\u001b[0;34m.\u001b[0m\u001b[0mread\u001b[0m\u001b[0;34m(\u001b[0m\u001b[0;34m)\u001b[0m\u001b[0;34m\u001b[0m\u001b[0;34m\u001b[0m\u001b[0m\n\u001b[1;32m     21\u001b[0m \u001b[0mbooktext\u001b[0m \u001b[0;34m=\u001b[0m \u001b[0mbooktext\u001b[0m\u001b[0;34m.\u001b[0m\u001b[0mreplace\u001b[0m\u001b[0;34m(\u001b[0m\u001b[0;34m\"\\n\"\u001b[0m\u001b[0;34m,\u001b[0m\u001b[0;34m\" \"\u001b[0m\u001b[0;34m)\u001b[0m\u001b[0;34m\u001b[0m\u001b[0;34m\u001b[0m\u001b[0m\n",
            "\u001b[0;31mFileNotFoundError\u001b[0m: [Errno 2] No such file or directory: '/content/books/testfile.txt'"
          ]
        }
      ],
      "source": [
        "### PREPROCESSING ###\n",
        "#nltk.download()\n",
        "#nltk.download('gutenberg')\n",
        "nltk.download('punkt')\n",
        "\"\"\"\n",
        "TO DO\n",
        "Fully implement preprocessing for all books.\n",
        "Create word embeddings from sentences.\n",
        "\"\"\"\n",
        "\n",
        "\n",
        "\"\"\"\n",
        "tokenizing (grouping) - word tokenizer will seperate words.\n",
        "corpora - body of text\n",
        "lexicon - words and their meanings\n",
        "\"\"\"\n",
        "\n",
        "#nltk.download('twitter_samples')\n",
        "sample = open(\"/content/books/testfile.txt\")\n",
        "booktext = sample.read()\n",
        "booktext = booktext.replace(\"\\n\",\" \")\n",
        "\n",
        "\n",
        "#sample = open(\"/content/books/alice.txt\")\n",
        "#booktext = sample.read()\n",
        "#sample = open(\"/content/books/the_gold_thimble.txt\")\n",
        "#booktext += \" \" + sample.read()\n",
        "#sample = open(\"/content/books/a_spring_harvest.txt\")\n",
        "#booktext += \" \" + sample.read()\n",
        "#sample = open(\"/content/books/a_middle_english_vocabulary.txt\")\n",
        "#booktext += \" \" + sample.read()\n",
        "#sample = open(\"/content/books/a_tangled_tale.txt\")\n",
        "#booktext += \" \" + sample.read()\n",
        "#booktext = booktext.replace(\"\\n\",\" \")\n",
        "\n",
        "data = []\n",
        "\n",
        "#iterate through each sentence in the file\n",
        "for i in nltk.sent_tokenize(booktext):\n",
        "  temp = []\n",
        "  #tokenize sentence into words\n",
        "  for j in nltk.word_tokenize(i):\n",
        "    temp.append(j.lower())\n",
        "  data.append(temp)\n",
        "\n",
        "\n",
        "#tokens = nltk.sent_tokenize(booktext)\n",
        "#print(tokens)\n",
        "\n",
        "#wordvec = [nltk.word_tokenize(booktext)]\n",
        "#wordvec\n",
        "\n",
        "\n",
        "\n"
      ]
    },
    {
      "cell_type": "code",
      "execution_count": null,
      "metadata": {
        "id": "mlJ6HiftJixJ"
      },
      "outputs": [],
      "source": [
        "### TRAINING MODEL ###\n",
        "\"\"\"\n",
        "TO DO\n",
        "Generate 4 different models.\n",
        "What are the default values saw in class? For the CBOW\n",
        "\"\"\"\n",
        "#Window and Embeddings(vectors) sizes\n",
        "W1 = 3\n",
        "W2 = 5\n",
        "E5 = 50\n",
        "E6 = 200\n",
        "\n",
        "\n",
        "\n",
        "#Create CBOW models\n",
        "#Parameter example of Word2Vec(sentences=text, vector_size=100, window=5, min_count=1, workers=4)\n",
        "own_model1 = Word2Vec(booktext, vector_size=E5, window=W1, min_count=1)\n",
        "#own_model2 = Word2Vec(booktext, vector_size=E5, window=W2, min_count=1)\n",
        "#own_model3 = Word2Vec(booktext, vector_size=E6, window=W1, min_count=1)\n",
        "#own_model4 = Word2Vec(booktext, vector_size=E6, window=W2, min_count=1)\n",
        "\n"
      ]
    },
    {
      "cell_type": "code",
      "execution_count": null,
      "metadata": {
        "id": "3kAu_XlSRb8O"
      },
      "outputs": [],
      "source": [
        "### CREATING CSV FILES ###\n",
        "\"\"\"\n",
        "TO DO\n",
        "Verify if correct\n",
        "\"\"\"\n",
        "def create_model_file(model_name):\n",
        "  model_name = str(model_name) + \"details.csv\"\n",
        "  with open(model_name, \"a\") as f:\n",
        "    for question in res:\n",
        "      if question.guessed_word == None:\n",
        "        question.guessed_word = \"\"\n",
        "      f.write(\",\".join([question.question,\n",
        "                        question.answer,\n",
        "                        question.guessed_word,\n",
        "                        question.label.value]))\n",
        "      f.write(\"\\n\")\n",
        "\n",
        "\n",
        "def append_results(model_name, embed_size, window_size):\n",
        "  model_name = str(model_name) + \"-\" + str(embed_size) + \"-\" + str(window_size)\n",
        "  with open(EVAL_FILENAME, \"a\") as f:\n",
        "    f.write(\",\".join([model_name,str(length), str(C), str(V), str(accuracy)]))\n",
        "    f.write(\"\\n\")\n",
        "\n",
        "\n"
      ]
    }
  ],
  "metadata": {
    "colab": {
      "include_colab_link": true,
      "provenance": []
    },
    "kernelspec": {
      "display_name": "Python 3",
      "name": "python3"
    },
    "language_info": {
      "name": "python"
    },
    "widgets": {
      "application/vnd.jupyter.widget-state+json": {
        "30aab0e369f140809c4e0bdbbd84c9a4": {
          "model_module": "@jupyter-widgets/base",
          "model_module_version": "1.2.0",
          "model_name": "LayoutModel",
          "state": {
            "_model_module": "@jupyter-widgets/base",
            "_model_module_version": "1.2.0",
            "_model_name": "LayoutModel",
            "_view_count": null,
            "_view_module": "@jupyter-widgets/base",
            "_view_module_version": "1.2.0",
            "_view_name": "LayoutView",
            "align_content": null,
            "align_items": null,
            "align_self": null,
            "border": null,
            "bottom": null,
            "display": null,
            "flex": null,
            "flex_flow": null,
            "grid_area": null,
            "grid_auto_columns": null,
            "grid_auto_flow": null,
            "grid_auto_rows": null,
            "grid_column": null,
            "grid_gap": null,
            "grid_row": null,
            "grid_template_areas": null,
            "grid_template_columns": null,
            "grid_template_rows": null,
            "height": null,
            "justify_content": null,
            "justify_items": null,
            "left": null,
            "margin": null,
            "max_height": null,
            "max_width": null,
            "min_height": null,
            "min_width": null,
            "object_fit": null,
            "object_position": null,
            "order": null,
            "overflow": null,
            "overflow_x": null,
            "overflow_y": null,
            "padding": null,
            "right": null,
            "top": null,
            "visibility": null,
            "width": null
          }
        },
        "38093c0bd3ae440486325ca54262213a": {
          "model_module": "@jupyter-widgets/base",
          "model_module_version": "1.2.0",
          "model_name": "LayoutModel",
          "state": {
            "_model_module": "@jupyter-widgets/base",
            "_model_module_version": "1.2.0",
            "_model_name": "LayoutModel",
            "_view_count": null,
            "_view_module": "@jupyter-widgets/base",
            "_view_module_version": "1.2.0",
            "_view_name": "LayoutView",
            "align_content": null,
            "align_items": null,
            "align_self": null,
            "border": null,
            "bottom": null,
            "display": null,
            "flex": null,
            "flex_flow": null,
            "grid_area": null,
            "grid_auto_columns": null,
            "grid_auto_flow": null,
            "grid_auto_rows": null,
            "grid_column": null,
            "grid_gap": null,
            "grid_row": null,
            "grid_template_areas": null,
            "grid_template_columns": null,
            "grid_template_rows": null,
            "height": null,
            "justify_content": null,
            "justify_items": null,
            "left": null,
            "margin": null,
            "max_height": null,
            "max_width": null,
            "min_height": null,
            "min_width": null,
            "object_fit": null,
            "object_position": null,
            "order": null,
            "overflow": null,
            "overflow_x": null,
            "overflow_y": null,
            "padding": null,
            "right": null,
            "top": null,
            "visibility": null,
            "width": null
          }
        },
        "3ec8c261791247028a282145943611bf": {
          "model_module": "@jupyter-widgets/base",
          "model_module_version": "1.2.0",
          "model_name": "LayoutModel",
          "state": {
            "_model_module": "@jupyter-widgets/base",
            "_model_module_version": "1.2.0",
            "_model_name": "LayoutModel",
            "_view_count": null,
            "_view_module": "@jupyter-widgets/base",
            "_view_module_version": "1.2.0",
            "_view_name": "LayoutView",
            "align_content": null,
            "align_items": null,
            "align_self": null,
            "border": null,
            "bottom": null,
            "display": null,
            "flex": null,
            "flex_flow": null,
            "grid_area": null,
            "grid_auto_columns": null,
            "grid_auto_flow": null,
            "grid_auto_rows": null,
            "grid_column": null,
            "grid_gap": null,
            "grid_row": null,
            "grid_template_areas": null,
            "grid_template_columns": null,
            "grid_template_rows": null,
            "height": null,
            "justify_content": null,
            "justify_items": null,
            "left": null,
            "margin": null,
            "max_height": null,
            "max_width": null,
            "min_height": null,
            "min_width": null,
            "object_fit": null,
            "object_position": null,
            "order": null,
            "overflow": null,
            "overflow_x": null,
            "overflow_y": null,
            "padding": null,
            "right": null,
            "top": null,
            "visibility": null,
            "width": null
          }
        },
        "5e9fe0a519e0454db650c16c591461c8": {
          "model_module": "@jupyter-widgets/controls",
          "model_module_version": "1.5.0",
          "model_name": "HTMLModel",
          "state": {
            "_dom_classes": [],
            "_model_module": "@jupyter-widgets/controls",
            "_model_module_version": "1.5.0",
            "_model_name": "HTMLModel",
            "_view_count": null,
            "_view_module": "@jupyter-widgets/controls",
            "_view_module_version": "1.5.0",
            "_view_name": "HTMLView",
            "description": "",
            "description_tooltip": null,
            "layout": "IPY_MODEL_38093c0bd3ae440486325ca54262213a",
            "placeholder": "​",
            "style": "IPY_MODEL_d61e935305e54713905a4b210f4fbbba",
            "value": "enwiki_20180420_100d.txt: 100%"
          }
        },
        "71b6a55e17964cc3850b38e1df2519fe": {
          "model_module": "@jupyter-widgets/controls",
          "model_module_version": "1.5.0",
          "model_name": "HBoxModel",
          "state": {
            "_dom_classes": [],
            "_model_module": "@jupyter-widgets/controls",
            "_model_module_version": "1.5.0",
            "_model_name": "HBoxModel",
            "_view_count": null,
            "_view_module": "@jupyter-widgets/controls",
            "_view_module_version": "1.5.0",
            "_view_name": "HBoxView",
            "box_style": "",
            "children": [
              "IPY_MODEL_5e9fe0a519e0454db650c16c591461c8",
              "IPY_MODEL_f1493a1f70f24b61afbeca492a1c028f",
              "IPY_MODEL_d1a743e325f84456a1bad379da3571ea"
            ],
            "layout": "IPY_MODEL_80e638f22f0e4266b9421ed4660d449a"
          }
        },
        "80e638f22f0e4266b9421ed4660d449a": {
          "model_module": "@jupyter-widgets/base",
          "model_module_version": "1.2.0",
          "model_name": "LayoutModel",
          "state": {
            "_model_module": "@jupyter-widgets/base",
            "_model_module_version": "1.2.0",
            "_model_name": "LayoutModel",
            "_view_count": null,
            "_view_module": "@jupyter-widgets/base",
            "_view_module_version": "1.2.0",
            "_view_name": "LayoutView",
            "align_content": null,
            "align_items": null,
            "align_self": null,
            "border": null,
            "bottom": null,
            "display": null,
            "flex": null,
            "flex_flow": null,
            "grid_area": null,
            "grid_auto_columns": null,
            "grid_auto_flow": null,
            "grid_auto_rows": null,
            "grid_column": null,
            "grid_gap": null,
            "grid_row": null,
            "grid_template_areas": null,
            "grid_template_columns": null,
            "grid_template_rows": null,
            "height": null,
            "justify_content": null,
            "justify_items": null,
            "left": null,
            "margin": null,
            "max_height": null,
            "max_width": null,
            "min_height": null,
            "min_width": null,
            "object_fit": null,
            "object_position": null,
            "order": null,
            "overflow": null,
            "overflow_x": null,
            "overflow_y": null,
            "padding": null,
            "right": null,
            "top": null,
            "visibility": null,
            "width": null
          }
        },
        "b34989e959f7420e8247adce5df087d0": {
          "model_module": "@jupyter-widgets/controls",
          "model_module_version": "1.5.0",
          "model_name": "DescriptionStyleModel",
          "state": {
            "_model_module": "@jupyter-widgets/controls",
            "_model_module_version": "1.5.0",
            "_model_name": "DescriptionStyleModel",
            "_view_count": null,
            "_view_module": "@jupyter-widgets/base",
            "_view_module_version": "1.2.0",
            "_view_name": "StyleView",
            "description_width": ""
          }
        },
        "d1a743e325f84456a1bad379da3571ea": {
          "model_module": "@jupyter-widgets/controls",
          "model_module_version": "1.5.0",
          "model_name": "HTMLModel",
          "state": {
            "_dom_classes": [],
            "_model_module": "@jupyter-widgets/controls",
            "_model_module_version": "1.5.0",
            "_model_name": "HTMLModel",
            "_view_count": null,
            "_view_module": "@jupyter-widgets/controls",
            "_view_module_version": "1.5.0",
            "_view_name": "HTMLView",
            "description": "",
            "description_tooltip": null,
            "layout": "IPY_MODEL_3ec8c261791247028a282145943611bf",
            "placeholder": "​",
            "style": "IPY_MODEL_b34989e959f7420e8247adce5df087d0",
            "value": " 3.49G/3.49G [01:04&lt;00:00, 41.2MB/s]"
          }
        },
        "d61e935305e54713905a4b210f4fbbba": {
          "model_module": "@jupyter-widgets/controls",
          "model_module_version": "1.5.0",
          "model_name": "DescriptionStyleModel",
          "state": {
            "_model_module": "@jupyter-widgets/controls",
            "_model_module_version": "1.5.0",
            "_model_name": "DescriptionStyleModel",
            "_view_count": null,
            "_view_module": "@jupyter-widgets/base",
            "_view_module_version": "1.2.0",
            "_view_name": "StyleView",
            "description_width": ""
          }
        },
        "f1493a1f70f24b61afbeca492a1c028f": {
          "model_module": "@jupyter-widgets/controls",
          "model_module_version": "1.5.0",
          "model_name": "FloatProgressModel",
          "state": {
            "_dom_classes": [],
            "_model_module": "@jupyter-widgets/controls",
            "_model_module_version": "1.5.0",
            "_model_name": "FloatProgressModel",
            "_view_count": null,
            "_view_module": "@jupyter-widgets/controls",
            "_view_module_version": "1.5.0",
            "_view_name": "ProgressView",
            "bar_style": "success",
            "description": "",
            "description_tooltip": null,
            "layout": "IPY_MODEL_30aab0e369f140809c4e0bdbbd84c9a4",
            "max": 3491243465,
            "min": 0,
            "orientation": "horizontal",
            "style": "IPY_MODEL_f2bfd580c0fc41a595a5878c63202961",
            "value": 3491243465
          }
        },
        "f2bfd580c0fc41a595a5878c63202961": {
          "model_module": "@jupyter-widgets/controls",
          "model_module_version": "1.5.0",
          "model_name": "ProgressStyleModel",
          "state": {
            "_model_module": "@jupyter-widgets/controls",
            "_model_module_version": "1.5.0",
            "_model_name": "ProgressStyleModel",
            "_view_count": null,
            "_view_module": "@jupyter-widgets/base",
            "_view_module_version": "1.2.0",
            "_view_name": "StyleView",
            "bar_color": null,
            "description_width": ""
          }
        }
      }
    }
  },
  "nbformat": 4,
  "nbformat_minor": 0
}
