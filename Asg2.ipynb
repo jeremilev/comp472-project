{
  "nbformat": 4,
  "nbformat_minor": 0,
  "metadata": {
    "colab": {
      "provenance": [],
      "include_colab_link": true
    },
    "kernelspec": {
      "name": "python3",
      "display_name": "Python 3"
    },
    "language_info": {
      "name": "python"
    }
  },
  "cells": [
    {
      "cell_type": "markdown",
      "metadata": {
        "id": "view-in-github",
        "colab_type": "text"
      },
      "source": [
        "<a href=\"https://colab.research.google.com/github/jeremilev/comp472-project/blob/asg2/Asg2.ipynb\" target=\"_parent\"><img src=\"https://colab.research.google.com/assets/colab-badge.svg\" alt=\"Open In Colab\"/></a>"
      ]
    },
    {
      "cell_type": "markdown",
      "source": [
        "# TASK 1: Evaluation of word2vec-google-news-300 pre-trained model"
      ],
      "metadata": {
        "id": "AZZE8rK7UsTt"
      }
    },
    {
      "cell_type": "code",
      "execution_count": 2,
      "metadata": {
        "id": "UP596VYJFBl0"
      },
      "outputs": [],
      "source": [
        "import gensim.downloader as api\n",
        "from gensim.models import Word2Vec\n",
        "from gensim import similarities\n",
        "from enum import Enum\n",
        "import json\n",
        "from dataclasses import dataclass\n",
        "import nltk"
      ]
    },
    {
      "cell_type": "code",
      "source": [
        "GOOGLE_MODEL = \"word2vec-google-news-300\"\n",
        "\n",
        "print(api.info(GOOGLE_MODEL))\n",
        "model = api.load(GOOGLE_MODEL)"
      ],
      "metadata": {
        "colab": {
          "base_uri": "https://localhost:8080/"
        },
        "id": "dHz2ybGXFcsS",
        "outputId": "f1e2912c-10e0-4cb5-daff-d5f8cbffff64"
      },
      "execution_count": 3,
      "outputs": [
        {
          "output_type": "stream",
          "name": "stdout",
          "text": [
            "{'num_records': 3000000, 'file_size': 1743563840, 'base_dataset': 'Google News (about 100 billion words)', 'reader_code': 'https://github.com/RaRe-Technologies/gensim-data/releases/download/word2vec-google-news-300/__init__.py', 'license': 'not found', 'parameters': {'dimension': 300}, 'description': \"Pre-trained vectors trained on a part of the Google News dataset (about 100 billion words). The model contains 300-dimensional vectors for 3 million words and phrases. The phrases were obtained using a simple data-driven approach described in 'Distributed Representations of Words and Phrases and their Compositionality' (https://code.google.com/archive/p/word2vec/).\", 'read_more': ['https://code.google.com/archive/p/word2vec/', 'https://arxiv.org/abs/1301.3781', 'https://arxiv.org/abs/1310.4546', 'https://www.microsoft.com/en-us/research/publication/linguistic-regularities-in-continuous-space-word-representations/?from=http%3A%2F%2Fresearch.microsoft.com%2Fpubs%2F189726%2Frvecs.pdf'], 'checksum': 'a5e5354d40acb95f9ec66d5977d140ef', 'file_name': 'word2vec-google-news-300.gz', 'parts': 1}\n",
            "[==================================================] 100.0% 1662.8/1662.8MB downloaded\n"
          ]
        }
      ]
    },
    {
      "cell_type": "code",
      "source": [
        "class Label(Enum):\n",
        "  GUESS = \"guess\"\n",
        "  CORRECT = \"correct\"\n",
        "  WRONG = \"wrong\"\n",
        "\n",
        "@dataclass\n",
        "class Question:\n",
        "  question: str\n",
        "  answer: str\n",
        "  choices: [str]\n",
        "  label: Label = Label.GUESS\n",
        "  guessed_word: str = None"
      ],
      "metadata": {
        "id": "aHj0jJaKXcev"
      },
      "execution_count": 4,
      "outputs": []
    },
    {
      "cell_type": "code",
      "source": [
        "def get_simmilar_word(question: Question) -> Question:\n",
        "\n",
        "  try:\n",
        "    suggestions = model.most_similar_cosmul(positive=question.question)\n",
        "  except(KeyError):\n",
        "    question.guessed_word=\"\"\n",
        "    return question\n",
        "\n",
        "  for suggestion, _ in suggestions:\n",
        "    if suggestion in question.choices and question.guessed_word == None:\n",
        "      question.guessed_word = suggestion\n",
        "    if suggestion in question.choices and question.guessed_word != None:\n",
        "      if question.guessed_word == question.answer: question.label = Label.CORRECT\n",
        "      else: question.label = Label.WRONG\n",
        "\n",
        "  return question\n",
        "\n",
        "def get_simmilar_list(questions: dict) -> list[Question]:\n",
        "  for question in questions:\n",
        "    get_simmilar_word(question)\n",
        "\n",
        "  return questions"
      ],
      "metadata": {
        "id": "9Sm2j6t3IZiu"
      },
      "execution_count": 5,
      "outputs": []
    },
    {
      "cell_type": "code",
      "source": [
        "INP_FILENAME = \"/content/synonym.json\"\n",
        "OUTP_FILENAME = f\"{GOOGLE_MODEL}-details.csv\"\n",
        "EVAL_FILENAME = \"analysis.csv\"\n",
        "\n",
        "questions = []\n",
        "with open(INP_FILENAME) as f:\n",
        "  data = json.load(f)\n",
        "  for obj in data:\n",
        "    questions.append(Question(**obj))\n",
        "\n",
        "res = get_simmilar_list(questions)\n",
        "with open(OUTP_FILENAME, \"a\") as f:\n",
        "  for question in res:\n",
        "    if question.guessed_word == None:\n",
        "      question.guessed_word = \"\"\n",
        "    f.write(\",\".join([question.question,\n",
        "                      question.answer,\n",
        "                      question.guessed_word,\n",
        "                      question.label.value]))\n",
        "    f.write(\"\\n\")\n",
        "\n",
        "with open(EVAL_FILENAME, \"a\") as f:\n",
        "  length = len(model)\n",
        "  C = len([x.label == Label.CORRECT for x in res])\n",
        "  guesses = len([x.label == Label.GUESS for x in res])\n",
        "  V = len(res) - guesses\n",
        "  if V != 0:\n",
        "    accuracy = C/V\n",
        "  else: accuracy = 0\n",
        "\n",
        "  f.write(\",\".join([GOOGLE_MODEL,str(length), str(C), str(V), str(accuracy)]))\n",
        "  f.write(\"\\n\")"
      ],
      "metadata": {
        "id": "PSlW18RYUrT1"
      },
      "execution_count": 8,
      "outputs": []
    },
    {
      "cell_type": "markdown",
      "source": [
        "# TASK 2: Other Pre-trained Models"
      ],
      "metadata": {
        "id": "wOdS4oL1OVcg"
      }
    },
    {
      "cell_type": "code",
      "source": [],
      "metadata": {
        "id": "Ew8vAYQgvzBs"
      },
      "execution_count": null,
      "outputs": []
    },
    {
      "cell_type": "markdown",
      "source": [
        "# TASK 3: Training Own Models"
      ],
      "metadata": {
        "id": "uPvAQi74OGyQ"
      }
    },
    {
      "cell_type": "code",
      "source": [
        "#!pip uninstall nltk"
      ],
      "metadata": {
        "id": "ILSlR9TdXSiS"
      },
      "execution_count": null,
      "outputs": []
    },
    {
      "cell_type": "code",
      "source": [
        "#!pip install -U nltk"
      ],
      "metadata": {
        "id": "XikAxZ-MZKsH"
      },
      "execution_count": null,
      "outputs": []
    },
    {
      "cell_type": "code",
      "source": [
        "### PREPROCESSING ###\n",
        "#nltk.download()\n",
        "#nltk.download('gutenberg')\n",
        "nltk.download('punkt')\n",
        "\"\"\"\n",
        "TO DO\n",
        "Fully implement preprocessing for all books.\n",
        "Create word embeddings from sentences.\n",
        "\"\"\"\n",
        "\n",
        "\n",
        "\"\"\"\n",
        "tokenizing (grouping) - word tokenizer will seperate words.\n",
        "corpora - body of text\n",
        "lexicon - words and their meanings\n",
        "\"\"\"\n",
        "\n",
        "#nltk.download('twitter_samples')\n",
        "sample = open(\"/content/books/testfile.txt\")\n",
        "booktext = sample.read()\n",
        "booktext = booktext.replace(\"\\n\",\" \")\n",
        "\n",
        "\n",
        "#sample = open(\"/content/books/alice.txt\")\n",
        "#booktext = sample.read()\n",
        "#sample = open(\"/content/books/the_gold_thimble.txt\")\n",
        "#booktext += \" \" + sample.read()\n",
        "#sample = open(\"/content/books/a_spring_harvest.txt\")\n",
        "#booktext += \" \" + sample.read()\n",
        "#sample = open(\"/content/books/a_middle_english_vocabulary.txt\")\n",
        "#booktext += \" \" + sample.read()\n",
        "#sample = open(\"/content/books/a_tangled_tale.txt\")\n",
        "#booktext += \" \" + sample.read()\n",
        "#booktext = booktext.replace(\"\\n\",\" \")\n",
        "\n",
        "data = []\n",
        "\n",
        "#iterate through each sentence in the file\n",
        "for i in nltk.sent_tokenize(booktext):\n",
        "  temp = []\n",
        "  #tokenize sentence into words\n",
        "  for j in nltk.word_tokenize(i):\n",
        "    temp.append(j.lower())\n",
        "  data.append(temp)\n",
        "\n",
        "\n",
        "#tokens = nltk.sent_tokenize(booktext)\n",
        "#print(tokens)\n",
        "\n",
        "#wordvec = [nltk.word_tokenize(booktext)]\n",
        "#wordvec\n",
        "\n",
        "\n",
        "\n"
      ],
      "metadata": {
        "colab": {
          "base_uri": "https://localhost:8080/",
          "height": 285
        },
        "id": "V-a4CnSxV6mE",
        "outputId": "53f7fbe9-3b6a-49e7-df8b-21869c08eca5"
      },
      "execution_count": 9,
      "outputs": [
        {
          "output_type": "stream",
          "name": "stderr",
          "text": [
            "[nltk_data] Downloading package punkt to /root/nltk_data...\n",
            "[nltk_data]   Unzipping tokenizers/punkt.zip.\n"
          ]
        },
        {
          "output_type": "error",
          "ename": "FileNotFoundError",
          "evalue": "ignored",
          "traceback": [
            "\u001b[0;31m---------------------------------------------------------------------------\u001b[0m",
            "\u001b[0;31mFileNotFoundError\u001b[0m                         Traceback (most recent call last)",
            "\u001b[0;32m<ipython-input-9-63dc7ba2fe5b>\u001b[0m in \u001b[0;36m<cell line: 19>\u001b[0;34m()\u001b[0m\n\u001b[1;32m     17\u001b[0m \u001b[0;34m\u001b[0m\u001b[0m\n\u001b[1;32m     18\u001b[0m \u001b[0;31m#nltk.download('twitter_samples')\u001b[0m\u001b[0;34m\u001b[0m\u001b[0;34m\u001b[0m\u001b[0m\n\u001b[0;32m---> 19\u001b[0;31m \u001b[0msample\u001b[0m \u001b[0;34m=\u001b[0m \u001b[0mopen\u001b[0m\u001b[0;34m(\u001b[0m\u001b[0;34m\"/content/books/testfile.txt\"\u001b[0m\u001b[0;34m)\u001b[0m\u001b[0;34m\u001b[0m\u001b[0;34m\u001b[0m\u001b[0m\n\u001b[0m\u001b[1;32m     20\u001b[0m \u001b[0mbooktext\u001b[0m \u001b[0;34m=\u001b[0m \u001b[0msample\u001b[0m\u001b[0;34m.\u001b[0m\u001b[0mread\u001b[0m\u001b[0;34m(\u001b[0m\u001b[0;34m)\u001b[0m\u001b[0;34m\u001b[0m\u001b[0;34m\u001b[0m\u001b[0m\n\u001b[1;32m     21\u001b[0m \u001b[0mbooktext\u001b[0m \u001b[0;34m=\u001b[0m \u001b[0mbooktext\u001b[0m\u001b[0;34m.\u001b[0m\u001b[0mreplace\u001b[0m\u001b[0;34m(\u001b[0m\u001b[0;34m\"\\n\"\u001b[0m\u001b[0;34m,\u001b[0m\u001b[0;34m\" \"\u001b[0m\u001b[0;34m)\u001b[0m\u001b[0;34m\u001b[0m\u001b[0;34m\u001b[0m\u001b[0m\n",
            "\u001b[0;31mFileNotFoundError\u001b[0m: [Errno 2] No such file or directory: '/content/books/testfile.txt'"
          ]
        }
      ]
    },
    {
      "cell_type": "code",
      "source": [
        "### TRAINING MODEL ###\n",
        "\"\"\"\n",
        "TO DO\n",
        "Generate 4 different models.\n",
        "What are the default values saw in class? For the CBOW\n",
        "\"\"\"\n",
        "#Window and Embeddings(vectors) sizes\n",
        "W1 = 3\n",
        "W2 = 5\n",
        "E5 = 50\n",
        "E6 = 200\n",
        "\n",
        "\n",
        "\n",
        "#Create CBOW models\n",
        "#Parameter example of Word2Vec(sentences=text, vector_size=100, window=5, min_count=1, workers=4)\n",
        "own_model1 = Word2Vec(booktext, vector_size=E5, window=W1, min_count=1)\n",
        "#own_model2 = Word2Vec(booktext, vector_size=E5, window=W2, min_count=1)\n",
        "#own_model3 = Word2Vec(booktext, vector_size=E6, window=W1, min_count=1)\n",
        "#own_model4 = Word2Vec(booktext, vector_size=E6, window=W2, min_count=1)\n",
        "\n"
      ],
      "metadata": {
        "id": "mlJ6HiftJixJ"
      },
      "execution_count": null,
      "outputs": []
    },
    {
      "cell_type": "code",
      "source": [
        "### CREATING CSV FILES ###\n",
        "\"\"\"\n",
        "TO DO\n",
        "Verify if correct\n",
        "\"\"\"\n",
        "def create_model_file(model_name):\n",
        "  model_name = str(model_name) + \"details.csv\"\n",
        "  with open(model_name, \"a\") as f:\n",
        "    for question in res:\n",
        "      if question.guessed_word == None:\n",
        "        question.guessed_word = \"\"\n",
        "      f.write(\",\".join([question.question,\n",
        "                        question.answer,\n",
        "                        question.guessed_word,\n",
        "                        question.label.value]))\n",
        "      f.write(\"\\n\")\n",
        "\n",
        "\n",
        "def append_results(model_name, embed_size, window_size):\n",
        "  model_name = str(model_name) + \"-\" + str(embed_size) + \"-\" + str(window_size)\n",
        "  with open(EVAL_FILENAME, \"a\") as f:\n",
        "    f.write(\",\".join([model_name,str(length), str(C), str(V), str(accuracy)]))\n",
        "    f.write(\"\\n\")\n",
        "\n",
        "\n"
      ],
      "metadata": {
        "id": "3kAu_XlSRb8O"
      },
      "execution_count": null,
      "outputs": []
    }
  ]
}